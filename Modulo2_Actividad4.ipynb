{
 "cells": [
  {
   "cell_type": "markdown",
   "id": "94a21981-32b5-4181-8fa6-25635867dafb",
   "metadata": {},
   "source": [
    "# Módulo 2 Ejercicio 4"
   ]
  },
  {
   "cell_type": "markdown",
   "id": "2e4dcdff-66fe-4a52-9f6c-4473aee3a3fd",
   "metadata": {},
   "source": [
    "**1. Continuaremos trabajando con nuestros datos de supermercado.  Para esto cargaremos los 4 archivos (clientes, boletas, detalle y productos) y responderemos a las siguientes preguntas:** s:"
   ]
  },
  {
   "cell_type": "markdown",
   "id": "6f1f6663-b3be-49e8-9fb8-f4d97d16eeb5",
   "metadata": {},
   "source": [
    "*a. Generar un DataFrame con cada archivo*"
   ]
  },
  {
   "cell_type": "code",
   "execution_count": null,
   "id": "f999cda7-528f-4424-b401-9ab3b24e0e78",
   "metadata": {},
   "outputs": [],
   "source": [
    "# Importamos librería Pandas\n",
    "import pandas as pd\n",
    "\n",
    "# Cargamos la información en una variable y luego las transformamos a DataFrame\n",
    "clientes = pd.read_csv('clientes.csv', encoding='latin1')\n",
    "boletas = pd.read_csv('boletas.csv', encoding='latin1')\n",
    "detalle = pd.read_csv('detalle.csv', encoding='latin1')\n",
    "productos = pd.read_csv('productos.csv', encoding='latin1')\n",
    "\n",
    "df_clientes = pd.DataFrame(clientes)\n",
    "df_boletas = pd.DataFrame(boletas)\n",
    "df_detalle  = pd.DataFrame(detalle)\n",
    "df_productos = pd.DataFrame(productos)\n"
   ]
  },
  {
   "cell_type": "code",
   "execution_count": null,
   "id": "6d079b0b-2a32-4778-ba52-5fb5bbbcbb9c",
   "metadata": {},
   "outputs": [],
   "source": [
    "# Desplegamos en pantalla el df_clientes\n",
    "df_clientes\n"
   ]
  },
  {
   "cell_type": "code",
   "execution_count": null,
   "id": "247de1f1",
   "metadata": {},
   "outputs": [],
   "source": [
    "# Desplegamos en pantalla el df_boletas\n",
    "df_boletas\n"
   ]
  },
  {
   "cell_type": "code",
   "execution_count": null,
   "id": "4fd57583",
   "metadata": {},
   "outputs": [],
   "source": [
    "# Desplegamos en pantalla el df_detalle\n",
    "df_detalle\n"
   ]
  },
  {
   "cell_type": "code",
   "execution_count": null,
   "id": "4bc3451e",
   "metadata": {},
   "outputs": [],
   "source": [
    "# Desplegamos en pantalla el df_productos\n",
    "df_productos\n"
   ]
  },
  {
   "cell_type": "markdown",
   "id": "af0d9c59",
   "metadata": {},
   "source": [
    "*b. ¿Cuántos datos tiene cada DataFrame?*"
   ]
  },
  {
   "cell_type": "code",
   "execution_count": null,
   "id": "f56b3432",
   "metadata": {},
   "outputs": [],
   "source": [
    "# Creamos mensaje de impresión que incluye código para obtener la cantidad de elementos de cada DataFrame\n",
    "print('La cantidad de datos en el DataFrame clientes es', df_clientes.size)\n",
    "print('La cantidad de datos en el DataFrame boletas es', df_boletas.size)\n",
    "print('La cantidad de datos en el DataFrame detalle es', df_detalle.size)\n",
    "print('La cantidad de datos en el DataFrame productos es', df_productos.size)\n",
    "\n"
   ]
  },
  {
   "cell_type": "markdown",
   "id": "8d660fa6",
   "metadata": {},
   "source": [
    "*c. ¿Cuántos clientes no tienen mail?*"
   ]
  },
  {
   "cell_type": "code",
   "execution_count": null,
   "id": "23f1b776",
   "metadata": {},
   "outputs": [],
   "source": [
    "# Creamos una variable para obtener la cantidad de datos faltantes en la columna mail del DataFrame clientes\n",
    "valores_nan_df_clientes = df_clientes['email'].isna().sum()\n",
    "\n",
    "#  Mostramos el resultado por pantalla\n",
    "print('La cantidad de clientes que no tienen registrado su mail en la base de datos es:', valores_nan_df_clientes)\n",
    "\n"
   ]
  },
  {
   "cell_type": "markdown",
   "id": "e9911512",
   "metadata": {},
   "source": [
    "*d. Genera un filtro para saber a qué clientes les falta un dato (cualquiera)*"
   ]
  },
  {
   "cell_type": "code",
   "execution_count": null,
   "id": "2dd80e0c",
   "metadata": {},
   "outputs": [],
   "source": [
    "# Creamos un filtro para obtener las filas del df_clientes que tienen al menos una entrada faltante\n",
    "clientes_info_incompleta = df_clientes.isna().any(axis=1)\n",
    "\n",
    "# Usamos el df_cilentes_info_incompleta para filtrar la información y obtener el nombre de los  clientes con información incompleta\n",
    "clientes_falta_data =  df_clientes[df_clientes_info_incompleta]\n",
    "\n",
    "#Desplegamos en pantalla  los clientes con información incompleta\n",
    "print('A los clientes que al menos le falta  alguna entrada de datos son:')\n",
    "df_clientes_falta_data = pd.DataFrame(clientes_falta_data)\n",
    "df_clientes_falta_data['nombre']\n",
    "\n"
   ]
  },
  {
   "cell_type": "markdown",
   "id": "73cc98e5",
   "metadata": {},
   "source": [
    "*e. ¿A cuantos clientes les faltan datos?*"
   ]
  },
  {
   "cell_type": "code",
   "execution_count": null,
   "id": "94bc2e95",
   "metadata": {},
   "outputs": [],
   "source": [
    "# Configuramos el mensaje para informar la cantidad de clientes con datos faltantes mediante el método .shape[] para contar la cantidad de columnas del df\n",
    "print('La cantidad de clientes a los que le falta, al menos, un dato es', df_clientes_falta_data.shape[0])\n"
   ]
  },
  {
   "cell_type": "markdown",
   "id": "03e27a0d",
   "metadata": {},
   "source": [
    "*f. Agregar una nueva columna a todos los clientes, que indique si le falta algún dato o no (con un mapeo)*"
   ]
  },
  {
   "cell_type": "code",
   "execution_count": null,
   "id": "e2bd0fc1",
   "metadata": {},
   "outputs": [],
   "source": [
    "# Agregamos una nueva columna con el estado de la información usando el filtro clientes_info_incompleta y método .map() para configurar la información de la columna\n",
    "df_clientes['info_completa'] = clientes_info_incompleta.map({True: 'Falta Información', False: 'Información Completa'})\n",
    "\n",
    "# Despliega en pantalla el df_clientes con la nueva información agregada\n",
    "df_clientes\n"
   ]
  },
  {
   "cell_type": "markdown",
   "id": "eaeab7c6",
   "metadata": {},
   "source": [
    "*g. A todos los clientes que les falten datos, deben rellenarse con un S/I, excepto la fecha de nacimiento*"
   ]
  },
  {
   "cell_type": "code",
   "execution_count": null,
   "id": "021cf31a",
   "metadata": {},
   "outputs": [],
   "source": [
    "# Creamos una variable que nos permita identificar las columnas que no se deben rellenar con método columns.difference()\n",
    "columnas_a_rellenar = df_clientes.columns.difference(['fecha_nacimiento'])\n",
    "\n",
    "# Usamos el método .fillna() para rellenar el df_clientes reemplazando NaN por 'S/I'\"Nueva carpeta\"\n",
    "df_clientes[columnas_a_rellenar] = df_clientes[columnas_a_rellenar].fillna('S/I')\n",
    "\n",
    "# Desplegamos el df_clientes actualizado con la nueva información\n",
    "df_clientes\n"
   ]
  },
  {
   "cell_type": "markdown",
   "id": "81b76511",
   "metadata": {},
   "source": [
    "*h. Busque en los productos si existe algún outlier*"
   ]
  },
  {
   "cell_type": "code",
   "execution_count": null,
   "id": "94f57828",
   "metadata": {},
   "outputs": [],
   "source": [
    "# Calculamos el rango intercuartil (IQR) para la columna de precios\n",
    "Q1 = df_productos['precio'].quantile(0.25)\n",
    "Q3 = df_productos['precio'].quantile(0.75)\n",
    "IQR = Q3 - Q1\n",
    "\n",
    "# Definimos los límites inferior y superior basados en el IQR\n",
    "limite_inferior = Q1 - 1.5 * IQR\n",
    "limite_superior = Q3 + 1.5 * IQR\n",
    "\n",
    "# Filtra y segrega los productos outliers del DataFrame\n",
    "productos_outliers = df_productos[(df_productos['precio'] < limite_inferior) | (df_productos['precio'] > limite_superior)]\n",
    "\n",
    "print('Los productos outlier en el df_productos son:')\n",
    "print(productos_outliers)\n"
   ]
  },
  {
   "cell_type": "markdown",
   "id": "d4d9db1e",
   "metadata": {},
   "source": [
    "**2. El archivo “M3E4 - titanic.csv” contiene información sobre los pasajeros del Titanic. Escribir un programa con los siguientes requisitos:**"
   ]
  },
  {
   "cell_type": "markdown",
   "id": "578be7d3",
   "metadata": {},
   "source": [
    "*a. Generar un DataFrame con los datos del fichero*"
   ]
  },
  {
   "cell_type": "code",
   "execution_count": null,
   "id": "23db8733",
   "metadata": {},
   "outputs": [],
   "source": [
    "# Importamos librería pandas\n",
    "import pandas as pd\n",
    "\n",
    "# Cargamos los datos del archivo titanic.csv y lo convertimos a un dataFrame\n",
    "titanic = pd.read_csv('Titanic.csv')\n",
    "\n",
    "df_titanic = pd.DataFrame(titanic)\n",
    "\n",
    "df_titanic\n"
   ]
  },
  {
   "cell_type": "markdown",
   "id": "b2c6e5c2",
   "metadata": {},
   "source": [
    "*b. Mostrar por pantalla las dimensiones del DataFrame, el número de datos que contiene, los nombres de sus columnas y filas, los tipos de datos de las columnas, las primeras 10 filas y las 10 últimas filas*"
   ]
  },
  {
   "cell_type": "code",
   "execution_count": null,
   "id": "f5edae31",
   "metadata": {},
   "outputs": [],
   "source": [
    "dimensiones_df = list(df_titanic.shape)\n",
    "q_datos_en_df = df_titanic.size\n",
    "df_nombre_columnas = pd.DataFrame(df_titanic)\n",
    "nombre_columnas_df = df_nombre_columnas.columns.tolist()\n",
    "nombre_filas_df = df_titanic.index.tolist()\n",
    "\n",
    "print(f'- Las dimensiones del DataFrame Titanic es de {dimensiones_df[0]} filas por {dimensiones_df[1]} columnas')\n",
    "print('')\n",
    "print(f'- El DataFrame Titanic contiene {q_datos_en_df} datos')\n",
    "print('')\n",
    "print('Los nombres de las columnas del DataFrame Titanic son:')\n",
    "print('-' * 50)\n",
    "for i in nombre_columnas_df:\n",
    "    print(i)\n",
    "print('')\n",
    "print('-' * 50)\n",
    "print('- El nombre de las filas del DatFrame Titanic son:')\n",
    "for i in nombre_filas_df:\n",
    "    print(i, end=', ')\n",
    "\n",
    "\n",
    "\n",
    "\n"
   ]
  },
  {
   "cell_type": "code",
   "execution_count": null,
   "id": "871bd359",
   "metadata": {},
   "outputs": [],
   "source": [
    "print('- Las primeras 10 filas del DataFrame Titanic son:')\n",
    "df_titanic.head(10)"
   ]
  },
  {
   "cell_type": "code",
   "execution_count": null,
   "id": "51a10c20",
   "metadata": {},
   "outputs": [],
   "source": [
    "print('- Las últimas 10 filas del DataFrame Titanic son:')\n",
    "df_titanic.tail(10)\n"
   ]
  },
  {
   "cell_type": "markdown",
   "id": "9768c07d",
   "metadata": {},
   "source": [
    "*c. Mostrar por pantalla los datos del pasajero con identificador 148.*"
   ]
  },
  {
   "cell_type": "code",
   "execution_count": 48,
   "id": "563f2e9e",
   "metadata": {},
   "outputs": [
    {
     "name": "stdout",
     "output_type": "stream",
     "text": [
      "- Los datos del pasajero con índice 148 son:\n",
      "-------------------------------------------------------\n"
     ]
    },
    {
     "data": {
      "text/html": [
       "<div>\n",
       "<style scoped>\n",
       "    .dataframe tbody tr th:only-of-type {\n",
       "        vertical-align: middle;\n",
       "    }\n",
       "\n",
       "    .dataframe tbody tr th {\n",
       "        vertical-align: top;\n",
       "    }\n",
       "\n",
       "    .dataframe thead th {\n",
       "        text-align: right;\n",
       "    }\n",
       "</style>\n",
       "<table border=\"1\" class=\"dataframe\">\n",
       "  <thead>\n",
       "    <tr style=\"text-align: right;\">\n",
       "      <th></th>\n",
       "      <th>148</th>\n",
       "    </tr>\n",
       "  </thead>\n",
       "  <tbody>\n",
       "    <tr>\n",
       "      <th>PassengerId</th>\n",
       "      <td>149</td>\n",
       "    </tr>\n",
       "    <tr>\n",
       "      <th>Survived</th>\n",
       "      <td>0</td>\n",
       "    </tr>\n",
       "    <tr>\n",
       "      <th>Pclass</th>\n",
       "      <td>2</td>\n",
       "    </tr>\n",
       "    <tr>\n",
       "      <th>Name</th>\n",
       "      <td>Navratil, Mr. Michel (\"Louis M Hoffman\")</td>\n",
       "    </tr>\n",
       "    <tr>\n",
       "      <th>Sex</th>\n",
       "      <td>male</td>\n",
       "    </tr>\n",
       "    <tr>\n",
       "      <th>Age</th>\n",
       "      <td>36.5</td>\n",
       "    </tr>\n",
       "    <tr>\n",
       "      <th>SibSp</th>\n",
       "      <td>0</td>\n",
       "    </tr>\n",
       "    <tr>\n",
       "      <th>Parch</th>\n",
       "      <td>2</td>\n",
       "    </tr>\n",
       "    <tr>\n",
       "      <th>Ticket</th>\n",
       "      <td>230080</td>\n",
       "    </tr>\n",
       "    <tr>\n",
       "      <th>Fare</th>\n",
       "      <td>26.0</td>\n",
       "    </tr>\n",
       "    <tr>\n",
       "      <th>Cabin</th>\n",
       "      <td>F2</td>\n",
       "    </tr>\n",
       "    <tr>\n",
       "      <th>Embarked</th>\n",
       "      <td>S</td>\n",
       "    </tr>\n",
       "  </tbody>\n",
       "</table>\n",
       "</div>"
      ],
      "text/plain": [
       "                                                  148\n",
       "PassengerId                                       149\n",
       "Survived                                            0\n",
       "Pclass                                              2\n",
       "Name         Navratil, Mr. Michel (\"Louis M Hoffman\")\n",
       "Sex                                              male\n",
       "Age                                              36.5\n",
       "SibSp                                               0\n",
       "Parch                                               2\n",
       "Ticket                                         230080\n",
       "Fare                                             26.0\n",
       "Cabin                                              F2\n",
       "Embarked                                            S"
      ]
     },
     "execution_count": 48,
     "metadata": {},
     "output_type": "execute_result"
    }
   ],
   "source": [
    "identificador148 = df_titanic.iloc[148]\n",
    "df_identificador148 = pd.DataFrame(identificador148)\n",
    "print('- Los datos del pasajero con índice 148 son:')\n",
    "print('-' * 55)\n",
    "df_identificador148\n",
    "\n"
   ]
  },
  {
   "cell_type": "code",
   "execution_count": 46,
   "id": "23f04d58",
   "metadata": {},
   "outputs": [
    {
     "name": "stdout",
     "output_type": "stream",
     "text": [
      "- Los datos del pasajero con identificador 148 son:\n",
      "-------------------------------------------------------\n"
     ]
    },
    {
     "data": {
      "text/html": [
       "<div>\n",
       "<style scoped>\n",
       "    .dataframe tbody tr th:only-of-type {\n",
       "        vertical-align: middle;\n",
       "    }\n",
       "\n",
       "    .dataframe tbody tr th {\n",
       "        vertical-align: top;\n",
       "    }\n",
       "\n",
       "    .dataframe thead th {\n",
       "        text-align: right;\n",
       "    }\n",
       "</style>\n",
       "<table border=\"1\" class=\"dataframe\">\n",
       "  <thead>\n",
       "    <tr style=\"text-align: right;\">\n",
       "      <th></th>\n",
       "      <th>PassengerId</th>\n",
       "      <th>Survived</th>\n",
       "      <th>Pclass</th>\n",
       "      <th>Name</th>\n",
       "      <th>Sex</th>\n",
       "      <th>Age</th>\n",
       "      <th>SibSp</th>\n",
       "      <th>Parch</th>\n",
       "      <th>Ticket</th>\n",
       "      <th>Fare</th>\n",
       "      <th>Cabin</th>\n",
       "      <th>Embarked</th>\n",
       "    </tr>\n",
       "  </thead>\n",
       "  <tbody>\n",
       "    <tr>\n",
       "      <th>147</th>\n",
       "      <td>148</td>\n",
       "      <td>0</td>\n",
       "      <td>3</td>\n",
       "      <td>Ford, Miss. Robina Maggie \"Ruby\"</td>\n",
       "      <td>female</td>\n",
       "      <td>9.0</td>\n",
       "      <td>2</td>\n",
       "      <td>2</td>\n",
       "      <td>W./C. 6608</td>\n",
       "      <td>34.375</td>\n",
       "      <td>NaN</td>\n",
       "      <td>S</td>\n",
       "    </tr>\n",
       "  </tbody>\n",
       "</table>\n",
       "</div>"
      ],
      "text/plain": [
       "     PassengerId  Survived  Pclass                              Name     Sex  \\\n",
       "147          148         0       3  Ford, Miss. Robina Maggie \"Ruby\"  female   \n",
       "\n",
       "     Age  SibSp  Parch      Ticket    Fare Cabin Embarked  \n",
       "147  9.0      2      2  W./C. 6608  34.375   NaN        S  "
      ]
     },
     "execution_count": 46,
     "metadata": {},
     "output_type": "execute_result"
    }
   ],
   "source": [
    "passengerId148 = df_titanic.loc[df_titanic['PassengerId'] == 148]\n",
    "df_passengerId148 = pd.DataFrame(passengerId148)\n",
    "print('- Los datos del pasajero de PassengerId 148 son:')\n",
    "print('-' * 55)\n",
    "df_passengerId148\n",
    "\n"
   ]
  },
  {
   "cell_type": "markdown",
   "id": "9236d8af",
   "metadata": {},
   "source": [
    "*d. Mostrar por pantalla las filas pares del DataFrame*"
   ]
  },
  {
   "cell_type": "code",
   "execution_count": null,
   "id": "82f0f810",
   "metadata": {},
   "outputs": [],
   "source": [
    "df_titanic_filas_indice_par = df_titanic.iloc[::2]\n",
    "\n",
    "print('- Las filas par del DataFrame (por índice) son:')\n",
    "print('- '* 50)\n",
    "\n",
    "df_titanic_filas_indice_par\n"
   ]
  },
  {
   "cell_type": "code",
   "execution_count": null,
   "id": "adae95f1",
   "metadata": {},
   "outputs": [],
   "source": [
    "df_titanic_filas_par_por_posicion = df_titanic.iloc[1::2]\n",
    "\n",
    "print('- Las filas par del DataFrame (por posición) son:')\n",
    "print('- '* 50)\n",
    "\n",
    "df_titanic_filas_par_por_posicion\n"
   ]
  },
  {
   "cell_type": "markdown",
   "id": "79c26871",
   "metadata": {},
   "source": [
    "*e. Mostrar por pantalla los nombres de las personas que iban en primera clase ordenadas alfabéticamente*"
   ]
  },
  {
   "cell_type": "code",
   "execution_count": 50,
   "id": "c0b200b5",
   "metadata": {},
   "outputs": [
    {
     "data": {
      "text/html": [
       "<div>\n",
       "<style scoped>\n",
       "    .dataframe tbody tr th:only-of-type {\n",
       "        vertical-align: middle;\n",
       "    }\n",
       "\n",
       "    .dataframe tbody tr th {\n",
       "        vertical-align: top;\n",
       "    }\n",
       "\n",
       "    .dataframe thead th {\n",
       "        text-align: right;\n",
       "    }\n",
       "</style>\n",
       "<table border=\"1\" class=\"dataframe\">\n",
       "  <thead>\n",
       "    <tr style=\"text-align: right;\">\n",
       "      <th></th>\n",
       "      <th>Name</th>\n",
       "    </tr>\n",
       "  </thead>\n",
       "  <tbody>\n",
       "    <tr>\n",
       "      <th>730</th>\n",
       "      <td>Allen, Miss. Elisabeth Walton</td>\n",
       "    </tr>\n",
       "    <tr>\n",
       "      <th>305</th>\n",
       "      <td>Allison, Master. Hudson Trevor</td>\n",
       "    </tr>\n",
       "    <tr>\n",
       "      <th>297</th>\n",
       "      <td>Allison, Miss. Helen Loraine</td>\n",
       "    </tr>\n",
       "    <tr>\n",
       "      <th>498</th>\n",
       "      <td>Allison, Mrs. Hudson J C (Bessie Waldo Daniels)</td>\n",
       "    </tr>\n",
       "    <tr>\n",
       "      <th>460</th>\n",
       "      <td>Anderson, Mr. Harry</td>\n",
       "    </tr>\n",
       "    <tr>\n",
       "      <th>...</th>\n",
       "      <td>...</td>\n",
       "    </tr>\n",
       "    <tr>\n",
       "      <th>155</th>\n",
       "      <td>Williams, Mr. Charles Duane</td>\n",
       "    </tr>\n",
       "    <tr>\n",
       "      <th>351</th>\n",
       "      <td>Williams-Lambert, Mr. Fletcher Fellows</td>\n",
       "    </tr>\n",
       "    <tr>\n",
       "      <th>55</th>\n",
       "      <td>Woolner, Mr. Hugh</td>\n",
       "    </tr>\n",
       "    <tr>\n",
       "      <th>555</th>\n",
       "      <td>Wright, Mr. George</td>\n",
       "    </tr>\n",
       "    <tr>\n",
       "      <th>325</th>\n",
       "      <td>Young, Miss. Marie Grice</td>\n",
       "    </tr>\n",
       "  </tbody>\n",
       "</table>\n",
       "<p>216 rows × 1 columns</p>\n",
       "</div>"
      ],
      "text/plain": [
       "                                                Name\n",
       "730                    Allen, Miss. Elisabeth Walton\n",
       "305                   Allison, Master. Hudson Trevor\n",
       "297                     Allison, Miss. Helen Loraine\n",
       "498  Allison, Mrs. Hudson J C (Bessie Waldo Daniels)\n",
       "460                              Anderson, Mr. Harry\n",
       "..                                               ...\n",
       "155                      Williams, Mr. Charles Duane\n",
       "351           Williams-Lambert, Mr. Fletcher Fellows\n",
       "55                                 Woolner, Mr. Hugh\n",
       "555                               Wright, Mr. George\n",
       "325                         Young, Miss. Marie Grice\n",
       "\n",
       "[216 rows x 1 columns]"
      ]
     },
     "execution_count": 50,
     "metadata": {},
     "output_type": "execute_result"
    }
   ],
   "source": [
    "df_1_clase = df_titanic['Pclass'] == 1\n",
    "df_pclass_1 =  df_titanic[df_1_clase]\n",
    "\n",
    "df_nombre_pclass_alfa = df_pclass_1['Name']\n",
    "df_nombre_pclass_alfa_ordenado = df_nombre_pclass_alfa.sort_values()\n",
    "df_titanic_nombre_pclass_alfa_ordenado = pd.DataFrame(df_nombre_pclass_alfa_ordenado)\n",
    "df_titanic_nombre_pclass_alfa_ordenado\n",
    "\n"
   ]
  },
  {
   "cell_type": "markdown",
   "id": "08f8dac3",
   "metadata": {},
   "source": [
    "*f. Mostrar por pantalla el porcentaje de personas que sobrevivieron y murieron*"
   ]
  },
  {
   "cell_type": "code",
   "execution_count": 60,
   "id": "3b3e8653",
   "metadata": {},
   "outputs": [
    {
     "name": "stdout",
     "output_type": "stream",
     "text": [
      "- La cantidad de personsa que sobrevieron en Titanic es 342 que equivale al 38.38%.  La cantidad de personas que murieron es 549 que equivale al 61.62%\n"
     ]
    }
   ],
   "source": [
    "df_survived = df_titanic['Survived'] == 1\n",
    "df_titanic_survived =  df_titanic[df_survived]\n",
    "number_survided = df_titanic_survived.shape[0]\n",
    "number_died = df_titanic.shape[0]  - number_survided\n",
    "survived_porcentaje = round((number_survided / df_titanic.shape[0] * 100), 2)\n",
    "died_porcentaje = 100 - survived_porcentaje\n",
    "\n",
    "print(f'- La cantidad de personas que sobrevieron en Titanic es {number_survided} que equivale al {survived_porcentaje}%.  La cantidad de personas que murieron es {number_died} que equivale al {died_porcentaje}%')\n",
    "\n",
    "\n"
   ]
  },
  {
   "cell_type": "markdown",
   "id": "d0723725",
   "metadata": {},
   "source": [
    "*g. Mostrar por pantalla el porcentaje de personas que sobrevivieron en cada clase*"
   ]
  },
  {
   "cell_type": "code",
   "execution_count": 88,
   "id": "e979ea4d",
   "metadata": {},
   "outputs": [
    {
     "data": {
      "text/html": [
       "<div>\n",
       "<style scoped>\n",
       "    .dataframe tbody tr th:only-of-type {\n",
       "        vertical-align: middle;\n",
       "    }\n",
       "\n",
       "    .dataframe tbody tr th {\n",
       "        vertical-align: top;\n",
       "    }\n",
       "\n",
       "    .dataframe thead th {\n",
       "        text-align: right;\n",
       "    }\n",
       "</style>\n",
       "<table border=\"1\" class=\"dataframe\">\n",
       "  <thead>\n",
       "    <tr style=\"text-align: right;\">\n",
       "      <th></th>\n",
       "      <th>Clase</th>\n",
       "      <th>Total Pasajeros</th>\n",
       "      <th>Sobrevivieron</th>\n",
       "      <th>Murieron</th>\n",
       "      <th>% Sobre sobre Clase</th>\n",
       "      <th>% Muertos sobre Clase</th>\n",
       "      <th>% Survived sobre Total</th>\n",
       "      <th>% Muertos sobre Total</th>\n",
       "    </tr>\n",
       "  </thead>\n",
       "  <tbody>\n",
       "    <tr>\n",
       "      <th>0</th>\n",
       "      <td>1</td>\n",
       "      <td>216</td>\n",
       "      <td>136</td>\n",
       "      <td>80</td>\n",
       "      <td>62.96</td>\n",
       "      <td>37.04</td>\n",
       "      <td>7.07</td>\n",
       "      <td>92.93</td>\n",
       "    </tr>\n",
       "    <tr>\n",
       "      <th>1</th>\n",
       "      <td>2</td>\n",
       "      <td>184</td>\n",
       "      <td>87</td>\n",
       "      <td>97</td>\n",
       "      <td>47.28</td>\n",
       "      <td>52.72</td>\n",
       "      <td>5.31</td>\n",
       "      <td>94.69</td>\n",
       "    </tr>\n",
       "    <tr>\n",
       "      <th>2</th>\n",
       "      <td>3</td>\n",
       "      <td>491</td>\n",
       "      <td>119</td>\n",
       "      <td>372</td>\n",
       "      <td>24.24</td>\n",
       "      <td>75.76</td>\n",
       "      <td>2.72</td>\n",
       "      <td>97.28</td>\n",
       "    </tr>\n",
       "  </tbody>\n",
       "</table>\n",
       "</div>"
      ],
      "text/plain": [
       "   Clase  Total Pasajeros  Sobrevivieron  Murieron  % Sobre sobre Clase  \\\n",
       "0      1              216            136        80                62.96   \n",
       "1      2              184             87        97                47.28   \n",
       "2      3              491            119       372                24.24   \n",
       "\n",
       "   % Muertos sobre Clase  % Survived sobre Total  % Muertos sobre Total  \n",
       "0                  37.04                    7.07                  92.93  \n",
       "1                  52.72                    5.31                  94.69  \n",
       "2                  75.76                    2.72                  97.28  "
      ]
     },
     "execution_count": 88,
     "metadata": {},
     "output_type": "execute_result"
    }
   ],
   "source": [
    "clases_en_titanic = df_titanic_survived['Pclass'].unique().tolist()\n",
    "clases_ordenadas = sorted(clases_en_titanic)\n",
    "total_tipo_clases = len(clases_ordenadas)\n",
    "\n",
    "# ------------------------------------------------------------------------\n",
    "\n",
    "clase1_total = df_titanic[df_titanic.Pclass == 1]['PassengerId'].count()\n",
    "clase2_total = df_titanic[df_titanic.Pclass == 2]['PassengerId'].count()\n",
    "clase3_total = df_titanic[df_titanic.Pclass == 3]['PassengerId'].count()\n",
    "\n",
    "total_x_clase = [clase1_total, clase2_total, clase3_total]\n",
    "\n",
    "# -----------------------------------------------------------------------\n",
    "\n",
    "clase1_survived = df_titanic[df_titanic.Pclass == 1]['Survived'].sum()\n",
    "clase2_survived = df_titanic[df_titanic.Pclass == 2]['Survived'].sum()\n",
    "clase3_survived = df_titanic[df_titanic.Pclass ==  3]['Survived'].sum()\n",
    "\n",
    "total_sob_x_clase = [clase1_survived, clase2_survived, clase3_survived]\n",
    "\n",
    "# -------------------------------------------------------------------------\n",
    "\n",
    "clase1_died = clase1_total - clase1_survived\n",
    "clase2_died = clase2_total - clase2_survived\n",
    "clase3_died = clase3_total - clase3_survived\n",
    "\n",
    "total_muer_x_clase = [clase1_died, clase2_died, clase3_died]\n",
    "\n",
    "# ---------------------------------------------------------------------\n",
    "\n",
    "perc_clase1_surv_por_clase =  round((clase1_survived / clase1_total) * 100, 2)\n",
    "perc_clase2_surv_por_clase = round((clase2_survived / clase2_total) * 100, 2)\n",
    "perc_clase3_surv_por_clase = round((clase3_survived / clase3_total) * 100, 2)\n",
    "\n",
    "porcen_sobr_x_clase = [perc_clase1_surv_por_clase, perc_clase2_surv_por_clase, perc_clase3_surv_por_clase]\n",
    "\n",
    "# ---------------------------------------------------------------------------\n",
    "\n",
    "perc_clase1_died_por_clase = 100 - perc_clase1_surv_por_clase\n",
    "perc_clase2_died_por_clase = 100 - perc_clase2_surv_por_clase\n",
    "perc_clase3_died_por_clase = 100 - perc_clase3_surv_por_clase\n",
    "\n",
    "porcen_muer_x_clase = [perc_clase1_died_por_clase, perc_clase2_died_por_clase, perc_clase3_died_por_clase]\n",
    "# -----------------------------------------------------------------------\n",
    "\n",
    "perc_clase1_surv_sobre_total = round((perc_clase1_surv_por_clase / df_titanic.shape[0]) * 100, 2)\n",
    "perc_clase2_surv_sobre_total = round((perc_clase2_surv_por_clase / df_titanic.shape[0]) * 100, 2)\n",
    "perc_clase3_surv_sobre_total = round((perc_clase3_surv_por_clase / df_titanic.shape[0]) * 100, 2)\n",
    "\n",
    "porcen_sobr_sobre_total = [perc_clase1_surv_sobre_total, perc_clase2_surv_sobre_total, perc_clase3_surv_sobre_total]\n",
    "\n",
    "# -------------------------------------------------------------------------------\n",
    "\n",
    "perc_clase1_died_sobre_total = 100 - perc_clase1_surv_sobre_total\n",
    "perc_clase2_died_sobre_total = 100 - perc_clase2_surv_sobre_total\n",
    "perc_clase3_died_sobre_total = 100 - perc_clase3_surv_sobre_total\n",
    "\n",
    "porc_muer_sobre_total = [perc_clase1_died_sobre_total, perc_clase2_died_sobre_total, perc_clase3_died_sobre_total]\n",
    "\n",
    "\n",
    "# --------------------------------------------------------------------------\n",
    "\n",
    "datos_surv_died_titanic = {'Clase' : clases_ordenadas, 'Total Pasajeros' : total_x_clase, 'Sobrevivieron' : total_sob_x_clase, 'Murieron' : total_muer_x_clase,\n",
    "                           '% Sobre sobre Clase': porcen_sobr_x_clase, '% Muertos sobre Clase' : porcen_muer_x_clase, '% Survived sobre Total' : porcen_sobr_sobre_total, '% Muertos sobre Total' : porc_muer_sobre_total}\n",
    "\n",
    "df_supervivientes = pd.DataFrame(datos_surv_died_titanic)\n",
    "\n",
    "\n",
    "df_supervivientes\n",
    "\n",
    "\n",
    "\n"
   ]
  },
  {
   "cell_type": "code",
   "execution_count": 42,
   "id": "7c8cf96c",
   "metadata": {},
   "outputs": [
    {
     "data": {
      "text/html": [
       "<div>\n",
       "<style scoped>\n",
       "    .dataframe tbody tr th:only-of-type {\n",
       "        vertical-align: middle;\n",
       "    }\n",
       "\n",
       "    .dataframe tbody tr th {\n",
       "        vertical-align: top;\n",
       "    }\n",
       "\n",
       "    .dataframe thead th {\n",
       "        text-align: right;\n",
       "    }\n",
       "</style>\n",
       "<table border=\"1\" class=\"dataframe\">\n",
       "  <thead>\n",
       "    <tr style=\"text-align: right;\">\n",
       "      <th></th>\n",
       "      <th>PassengerId</th>\n",
       "      <th>Survived</th>\n",
       "      <th>Pclass</th>\n",
       "      <th>Name</th>\n",
       "      <th>Sex</th>\n",
       "      <th>Age</th>\n",
       "      <th>SibSp</th>\n",
       "      <th>Parch</th>\n",
       "      <th>Ticket</th>\n",
       "      <th>Fare</th>\n",
       "      <th>Cabin</th>\n",
       "      <th>Embarked</th>\n",
       "    </tr>\n",
       "  </thead>\n",
       "  <tbody>\n",
       "    <tr>\n",
       "      <th>0</th>\n",
       "      <td>1</td>\n",
       "      <td>0</td>\n",
       "      <td>3</td>\n",
       "      <td>Braund, Mr. Owen Harris</td>\n",
       "      <td>male</td>\n",
       "      <td>22.0</td>\n",
       "      <td>1</td>\n",
       "      <td>0</td>\n",
       "      <td>A/5 21171</td>\n",
       "      <td>7.2500</td>\n",
       "      <td>NaN</td>\n",
       "      <td>S</td>\n",
       "    </tr>\n",
       "    <tr>\n",
       "      <th>1</th>\n",
       "      <td>2</td>\n",
       "      <td>1</td>\n",
       "      <td>1</td>\n",
       "      <td>Cumings, Mrs. John Bradley (Florence Briggs Th...</td>\n",
       "      <td>female</td>\n",
       "      <td>38.0</td>\n",
       "      <td>1</td>\n",
       "      <td>0</td>\n",
       "      <td>PC 17599</td>\n",
       "      <td>71.2833</td>\n",
       "      <td>C85</td>\n",
       "      <td>C</td>\n",
       "    </tr>\n",
       "    <tr>\n",
       "      <th>2</th>\n",
       "      <td>3</td>\n",
       "      <td>1</td>\n",
       "      <td>3</td>\n",
       "      <td>Heikkinen, Miss. Laina</td>\n",
       "      <td>female</td>\n",
       "      <td>26.0</td>\n",
       "      <td>0</td>\n",
       "      <td>0</td>\n",
       "      <td>STON/O2. 3101282</td>\n",
       "      <td>7.9250</td>\n",
       "      <td>NaN</td>\n",
       "      <td>S</td>\n",
       "    </tr>\n",
       "    <tr>\n",
       "      <th>3</th>\n",
       "      <td>4</td>\n",
       "      <td>1</td>\n",
       "      <td>1</td>\n",
       "      <td>Futrelle, Mrs. Jacques Heath (Lily May Peel)</td>\n",
       "      <td>female</td>\n",
       "      <td>35.0</td>\n",
       "      <td>1</td>\n",
       "      <td>0</td>\n",
       "      <td>113803</td>\n",
       "      <td>53.1000</td>\n",
       "      <td>C123</td>\n",
       "      <td>S</td>\n",
       "    </tr>\n",
       "    <tr>\n",
       "      <th>4</th>\n",
       "      <td>5</td>\n",
       "      <td>0</td>\n",
       "      <td>3</td>\n",
       "      <td>Allen, Mr. William Henry</td>\n",
       "      <td>male</td>\n",
       "      <td>35.0</td>\n",
       "      <td>0</td>\n",
       "      <td>0</td>\n",
       "      <td>373450</td>\n",
       "      <td>8.0500</td>\n",
       "      <td>NaN</td>\n",
       "      <td>S</td>\n",
       "    </tr>\n",
       "    <tr>\n",
       "      <th>...</th>\n",
       "      <td>...</td>\n",
       "      <td>...</td>\n",
       "      <td>...</td>\n",
       "      <td>...</td>\n",
       "      <td>...</td>\n",
       "      <td>...</td>\n",
       "      <td>...</td>\n",
       "      <td>...</td>\n",
       "      <td>...</td>\n",
       "      <td>...</td>\n",
       "      <td>...</td>\n",
       "      <td>...</td>\n",
       "    </tr>\n",
       "    <tr>\n",
       "      <th>886</th>\n",
       "      <td>887</td>\n",
       "      <td>0</td>\n",
       "      <td>2</td>\n",
       "      <td>Montvila, Rev. Juozas</td>\n",
       "      <td>male</td>\n",
       "      <td>27.0</td>\n",
       "      <td>0</td>\n",
       "      <td>0</td>\n",
       "      <td>211536</td>\n",
       "      <td>13.0000</td>\n",
       "      <td>NaN</td>\n",
       "      <td>S</td>\n",
       "    </tr>\n",
       "    <tr>\n",
       "      <th>887</th>\n",
       "      <td>888</td>\n",
       "      <td>1</td>\n",
       "      <td>1</td>\n",
       "      <td>Graham, Miss. Margaret Edith</td>\n",
       "      <td>female</td>\n",
       "      <td>19.0</td>\n",
       "      <td>0</td>\n",
       "      <td>0</td>\n",
       "      <td>112053</td>\n",
       "      <td>30.0000</td>\n",
       "      <td>B42</td>\n",
       "      <td>S</td>\n",
       "    </tr>\n",
       "    <tr>\n",
       "      <th>888</th>\n",
       "      <td>889</td>\n",
       "      <td>0</td>\n",
       "      <td>3</td>\n",
       "      <td>Johnston, Miss. Catherine Helen \"Carrie\"</td>\n",
       "      <td>female</td>\n",
       "      <td>NaN</td>\n",
       "      <td>1</td>\n",
       "      <td>2</td>\n",
       "      <td>W./C. 6607</td>\n",
       "      <td>23.4500</td>\n",
       "      <td>NaN</td>\n",
       "      <td>S</td>\n",
       "    </tr>\n",
       "    <tr>\n",
       "      <th>889</th>\n",
       "      <td>890</td>\n",
       "      <td>1</td>\n",
       "      <td>1</td>\n",
       "      <td>Behr, Mr. Karl Howell</td>\n",
       "      <td>male</td>\n",
       "      <td>26.0</td>\n",
       "      <td>0</td>\n",
       "      <td>0</td>\n",
       "      <td>111369</td>\n",
       "      <td>30.0000</td>\n",
       "      <td>C148</td>\n",
       "      <td>C</td>\n",
       "    </tr>\n",
       "    <tr>\n",
       "      <th>890</th>\n",
       "      <td>891</td>\n",
       "      <td>0</td>\n",
       "      <td>3</td>\n",
       "      <td>Dooley, Mr. Patrick</td>\n",
       "      <td>male</td>\n",
       "      <td>32.0</td>\n",
       "      <td>0</td>\n",
       "      <td>0</td>\n",
       "      <td>370376</td>\n",
       "      <td>7.7500</td>\n",
       "      <td>NaN</td>\n",
       "      <td>Q</td>\n",
       "    </tr>\n",
       "  </tbody>\n",
       "</table>\n",
       "<p>891 rows × 12 columns</p>\n",
       "</div>"
      ],
      "text/plain": [
       "     PassengerId  Survived  Pclass  \\\n",
       "0              1         0       3   \n",
       "1              2         1       1   \n",
       "2              3         1       3   \n",
       "3              4         1       1   \n",
       "4              5         0       3   \n",
       "..           ...       ...     ...   \n",
       "886          887         0       2   \n",
       "887          888         1       1   \n",
       "888          889         0       3   \n",
       "889          890         1       1   \n",
       "890          891         0       3   \n",
       "\n",
       "                                                  Name     Sex   Age  SibSp  \\\n",
       "0                              Braund, Mr. Owen Harris    male  22.0      1   \n",
       "1    Cumings, Mrs. John Bradley (Florence Briggs Th...  female  38.0      1   \n",
       "2                               Heikkinen, Miss. Laina  female  26.0      0   \n",
       "3         Futrelle, Mrs. Jacques Heath (Lily May Peel)  female  35.0      1   \n",
       "4                             Allen, Mr. William Henry    male  35.0      0   \n",
       "..                                                 ...     ...   ...    ...   \n",
       "886                              Montvila, Rev. Juozas    male  27.0      0   \n",
       "887                       Graham, Miss. Margaret Edith  female  19.0      0   \n",
       "888           Johnston, Miss. Catherine Helen \"Carrie\"  female   NaN      1   \n",
       "889                              Behr, Mr. Karl Howell    male  26.0      0   \n",
       "890                                Dooley, Mr. Patrick    male  32.0      0   \n",
       "\n",
       "     Parch            Ticket     Fare Cabin Embarked  \n",
       "0        0         A/5 21171   7.2500   NaN        S  \n",
       "1        0          PC 17599  71.2833   C85        C  \n",
       "2        0  STON/O2. 3101282   7.9250   NaN        S  \n",
       "3        0            113803  53.1000  C123        S  \n",
       "4        0            373450   8.0500   NaN        S  \n",
       "..     ...               ...      ...   ...      ...  \n",
       "886      0            211536  13.0000   NaN        S  \n",
       "887      0            112053  30.0000   B42        S  \n",
       "888      2        W./C. 6607  23.4500   NaN        S  \n",
       "889      0            111369  30.0000  C148        C  \n",
       "890      0            370376   7.7500   NaN        Q  \n",
       "\n",
       "[891 rows x 12 columns]"
      ]
     },
     "execution_count": 42,
     "metadata": {},
     "output_type": "execute_result"
    }
   ],
   "source": [
    "df_titanic\n"
   ]
  },
  {
   "cell_type": "code",
   "execution_count": 78,
   "id": "d7fb9aa6",
   "metadata": {},
   "outputs": [
    {
     "name": "stdout",
     "output_type": "stream",
     "text": [
      "1\n"
     ]
    }
   ],
   "source": [
    "\n",
    "\n",
    "\n"
   ]
  },
  {
   "cell_type": "code",
   "execution_count": 68,
   "id": "9a71ab8f",
   "metadata": {},
   "outputs": [
    {
     "name": "stdout",
     "output_type": "stream",
     "text": [
      "Valores numéricos únicos en la columna A: [1, 3, 2]\n"
     ]
    }
   ],
   "source": [
    "import pandas as pd\n",
    "\n",
    "# Crear un DataFrame de ejemplo\n",
    "data = {\n",
    "    'A': [1, 3, 2, 3, 1, 2],\n",
    "    'B': ['a', 'b', 'c', 'a', 'b', 'c'],\n",
    "    'C': [1.1, 2.2, 3.3, 1.1, 2.2, 3.2]\n",
    "}\n",
    "\n",
    "df = pd.DataFrame(data)\n",
    "\n",
    "# Elegir la columna específica\n",
    "columna_especifica = 'A'\n",
    "\n",
    "# Identificar los valores numéricos únicos en la columna específica\n",
    "valores_unicos_columna = df[columna_especifica].unique()\n",
    "valores_numericos_unicos = [v for v in valores_unicos_columna if pd.api.types.is_number(v)]\n",
    "\n",
    "print(f\"Valores numéricos únicos en la columna {columna_especifica}: {valores_numericos_unicos}\")\n"
   ]
  },
  {
   "cell_type": "code",
   "execution_count": null,
   "id": "c8d391f5",
   "metadata": {},
   "outputs": [],
   "source": []
  }
 ],
 "metadata": {
  "kernelspec": {
   "display_name": "Python 3 (ipykernel)",
   "language": "python",
   "name": "python3"
  },
  "language_info": {
   "codemirror_mode": {
    "name": "ipython",
    "version": 3
   },
   "file_extension": ".py",
   "mimetype": "text/x-python",
   "name": "python",
   "nbconvert_exporter": "python",
   "pygments_lexer": "ipython3",
   "version": "3.11.7"
  }
 },
 "nbformat": 4,
 "nbformat_minor": 5
}
