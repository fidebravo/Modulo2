{
 "cells": [
  {
   "cell_type": "markdown",
   "id": "94a21981-32b5-4181-8fa6-25635867dafb",
   "metadata": {},
   "source": [
    "# Módulo 2 Ejercicio 4"
   ]
  },
  {
   "cell_type": "markdown",
   "id": "2e4dcdff-66fe-4a52-9f6c-4473aee3a3fd",
   "metadata": {},
   "source": [
    "**1. Continuaremos trabajando con nuestros datos de supermercado.  Para esto cargaremos los 4 archivos (clientes, boletas, detalle y productos) y responderemos a las siguientes preguntas:** s:"
   ]
  },
  {
   "cell_type": "markdown",
   "id": "6f1f6663-b3be-49e8-9fb8-f4d97d16eeb5",
   "metadata": {},
   "source": [
    "*a. Generar un DataFrame con cada archivo*"
   ]
  },
  {
   "cell_type": "code",
   "execution_count": null,
   "id": "f999cda7-528f-4424-b401-9ab3b24e0e78",
   "metadata": {},
   "outputs": [],
   "source": [
    "# Importamos librería Pandas\n",
    "import pandas as pd\n",
    "\n",
    "# Cargamos la información en una variable y luego las transformamos a DataFrame\n",
    "clientes = pd.read_csv('clientes.csv', encoding='latin1')\n",
    "boletas = pd.read_csv('boletas.csv', encoding='latin1')\n",
    "detalle = pd.read_csv('detalle.csv', encoding='latin1')\n",
    "productos = pd.read_csv('productos.csv', encoding='latin1')\n",
    "\n",
    "df_clientes = pd.DataFrame(clientes)\n",
    "df_boletas = pd.DataFrame(boletas)\n",
    "df_detalle  = pd.DataFrame(detalle)\n",
    "df_productos = pd.DataFrame(productos)\n"
   ]
  },
  {
   "cell_type": "code",
   "execution_count": null,
   "id": "6d079b0b-2a32-4778-ba52-5fb5bbbcbb9c",
   "metadata": {},
   "outputs": [],
   "source": [
    "# Desplegamos en pantalla el df_clientes\n",
    "df_clientes\n"
   ]
  },
  {
   "cell_type": "code",
   "execution_count": null,
   "id": "247de1f1",
   "metadata": {},
   "outputs": [],
   "source": [
    "# Desplegamos en pantalla el df_boletas\n",
    "df_boletas\n"
   ]
  },
  {
   "cell_type": "code",
   "execution_count": null,
   "id": "4fd57583",
   "metadata": {},
   "outputs": [],
   "source": [
    "# Desplegamos en pantalla el df_detalle\n",
    "df_detalle\n"
   ]
  },
  {
   "cell_type": "code",
   "execution_count": null,
   "id": "4bc3451e",
   "metadata": {},
   "outputs": [],
   "source": [
    "# Desplegamos en pantalla el df_productos\n",
    "df_productos\n"
   ]
  },
  {
   "cell_type": "markdown",
   "id": "af0d9c59",
   "metadata": {},
   "source": [
    "*b. ¿Cuántos datos tiene cada DataFrame?*"
   ]
  },
  {
   "cell_type": "code",
   "execution_count": null,
   "id": "f56b3432",
   "metadata": {},
   "outputs": [],
   "source": [
    "# Creamos mensaje de impresión que incluye código para obtener la cantidad de elementos de cada DataFrame\n",
    "print('La cantidad de datos en el DataFrame clientes es', df_clientes.size)\n",
    "print('La cantidad de datos en el DataFrame boletas es', df_boletas.size)\n",
    "print('La cantidad de datos en el DataFrame detalle es', df_detalle.size)\n",
    "print('La cantidad de datos en el DataFrame productos es', df_productos.size)\n",
    "\n"
   ]
  },
  {
   "cell_type": "markdown",
   "id": "8d660fa6",
   "metadata": {},
   "source": [
    "*c. ¿Cuántos clientes no tienen mail?*"
   ]
  },
  {
   "cell_type": "code",
   "execution_count": null,
   "id": "23f1b776",
   "metadata": {},
   "outputs": [],
   "source": [
    "# Creamos una variable para obtener la cantidad de datos faltantes en la columna mail del DataFrame clientes\n",
    "valores_nan_df_clientes = df_clientes['email'].isna().sum()\n",
    "\n",
    "#  Mostramos el resultado por pantalla\n",
    "print('La cantidad de clientes que no tienen registrado su mail en la base de datos es:', valores_nan_df_clientes)\n",
    "\n"
   ]
  },
  {
   "cell_type": "markdown",
   "id": "e9911512",
   "metadata": {},
   "source": [
    "*d. Genera un filtro para saber a qué clientes les falta un dato (cualquiera)*"
   ]
  },
  {
   "cell_type": "code",
   "execution_count": null,
   "id": "2dd80e0c",
   "metadata": {},
   "outputs": [],
   "source": [
    "# Creamos un filtro para obtener las filas del df_clientes que tienen al menos una entrada faltante\n",
    "clientes_info_incompleta = df_clientes.isna().any(axis=1)\n",
    "\n",
    "# Usamos el df_cilentes_info_incompleta para filtrar la información y obtener el nombre de los  clientes con información incompleta\n",
    "clientes_falta_data =  df_clientes[df_clientes_info_incompleta]\n",
    "\n",
    "#Desplegamos en pantalla  los clientes con información incompleta\n",
    "print('A los clientes que al menos le falta  alguna entrada de datos son:')\n",
    "df_clientes_falta_data = pd.DataFrame(clientes_falta_data)\n",
    "df_clientes_falta_data['nombre']\n",
    "\n"
   ]
  },
  {
   "cell_type": "markdown",
   "id": "73cc98e5",
   "metadata": {},
   "source": [
    "*e. ¿A cuantos clientes les faltan datos?*"
   ]
  },
  {
   "cell_type": "code",
   "execution_count": null,
   "id": "94bc2e95",
   "metadata": {},
   "outputs": [],
   "source": [
    "# Configuramos el mensaje para informar la cantidad de clientes con datos faltantes mediante el método .shape[] para contar la cantidad de columnas del df\n",
    "print('La cantidad de clientes a los que le falta, al menos, un dato es', df_clientes_falta_data.shape[0])\n"
   ]
  },
  {
   "cell_type": "markdown",
   "id": "03e27a0d",
   "metadata": {},
   "source": [
    "*f. Agregar una nueva columna a todos los clientes, que indique si le falta algún dato o no (con un mapeo)*"
   ]
  },
  {
   "cell_type": "code",
   "execution_count": null,
   "id": "e2bd0fc1",
   "metadata": {},
   "outputs": [],
   "source": [
    "# Agregamos una nueva columna con el estado de la información usando el filtro clientes_info_incompleta y método .map() para configurar la información de la columna\n",
    "df_clientes['info_completa'] = clientes_info_incompleta.map({True: 'Falta Información', False: 'Información Completa'})\n",
    "\n",
    "# Despliega en pantalla el df_clientes con la nueva información agregada\n",
    "df_clientes\n"
   ]
  },
  {
   "cell_type": "markdown",
   "id": "eaeab7c6",
   "metadata": {},
   "source": [
    "*g. A todos los clientes que les falten datos, deben rellenarse con un S/I, excepto la fecha de nacimiento*"
   ]
  },
  {
   "cell_type": "code",
   "execution_count": null,
   "id": "021cf31a",
   "metadata": {},
   "outputs": [],
   "source": [
    "# Creamos una variable que nos permita identificar las columnas que no se deben rellenar con método columns.difference()\n",
    "columnas_a_rellenar = df_clientes.columns.difference(['fecha_nacimiento'])\n",
    "\n",
    "# Usamos el método .fillna() para rellenar el df_clientes reemplazando NaN por 'S/I'\"Nueva carpeta\"\n",
    "df_clientes[columnas_a_rellenar] = df_clientes[columnas_a_rellenar].fillna('S/I')\n",
    "\n",
    "# Desplegamos el df_clientes actualizado con la nueva información\n",
    "df_clientes\n"
   ]
  },
  {
   "cell_type": "markdown",
   "id": "81b76511",
   "metadata": {},
   "source": [
    "*h. Busque en los productos si existe algún outlier*"
   ]
  },
  {
   "cell_type": "code",
   "execution_count": null,
   "id": "94f57828",
   "metadata": {},
   "outputs": [],
   "source": [
    "# Calculamos el rango intercuartil (IQR) para la columna de precios\n",
    "Q1 = df_productos['precio'].quantile(0.25)\n",
    "Q3 = df_productos['precio'].quantile(0.75)\n",
    "IQR = Q3 - Q1\n",
    "\n",
    "# Definimos los límites inferior y superior basados en el IQR\n",
    "limite_inferior = Q1 - 1.5 * IQR\n",
    "limite_superior = Q3 + 1.5 * IQR\n",
    "\n",
    "# Filtra y segrega los productos outliers del DataFrame\n",
    "productos_outliers = df_productos[(df_productos['precio'] < limite_inferior) | (df_productos['precio'] > limite_superior)]\n",
    "\n",
    "print('Los productos outlier en el df_productos son:')\n",
    "print(productos_outliers)\n"
   ]
  },
  {
   "cell_type": "markdown",
   "id": "d4d9db1e",
   "metadata": {},
   "source": [
    "**2. El archivo “M3E4 - titanic.csv” contiene información sobre los pasajeros del Titanic. Escribir un programa con los siguientes requisitos:**"
   ]
  },
  {
   "cell_type": "markdown",
   "id": "578be7d3",
   "metadata": {},
   "source": [
    "*a. Generar un DataFrame con los datos del fichero*"
   ]
  },
  {
   "cell_type": "code",
   "execution_count": 7,
   "id": "23db8733",
   "metadata": {},
   "outputs": [
    {
     "data": {
      "text/html": [
       "<div>\n",
       "<style scoped>\n",
       "    .dataframe tbody tr th:only-of-type {\n",
       "        vertical-align: middle;\n",
       "    }\n",
       "\n",
       "    .dataframe tbody tr th {\n",
       "        vertical-align: top;\n",
       "    }\n",
       "\n",
       "    .dataframe thead th {\n",
       "        text-align: right;\n",
       "    }\n",
       "</style>\n",
       "<table border=\"1\" class=\"dataframe\">\n",
       "  <thead>\n",
       "    <tr style=\"text-align: right;\">\n",
       "      <th></th>\n",
       "      <th>PassengerId</th>\n",
       "      <th>Survived</th>\n",
       "      <th>Pclass</th>\n",
       "      <th>Name</th>\n",
       "      <th>Sex</th>\n",
       "      <th>Age</th>\n",
       "      <th>SibSp</th>\n",
       "      <th>Parch</th>\n",
       "      <th>Ticket</th>\n",
       "      <th>Fare</th>\n",
       "      <th>Cabin</th>\n",
       "      <th>Embarked</th>\n",
       "    </tr>\n",
       "  </thead>\n",
       "  <tbody>\n",
       "    <tr>\n",
       "      <th>0</th>\n",
       "      <td>1</td>\n",
       "      <td>0</td>\n",
       "      <td>3</td>\n",
       "      <td>Braund, Mr. Owen Harris</td>\n",
       "      <td>male</td>\n",
       "      <td>22.0</td>\n",
       "      <td>1</td>\n",
       "      <td>0</td>\n",
       "      <td>A/5 21171</td>\n",
       "      <td>7.2500</td>\n",
       "      <td>NaN</td>\n",
       "      <td>S</td>\n",
       "    </tr>\n",
       "    <tr>\n",
       "      <th>1</th>\n",
       "      <td>2</td>\n",
       "      <td>1</td>\n",
       "      <td>1</td>\n",
       "      <td>Cumings, Mrs. John Bradley (Florence Briggs Th...</td>\n",
       "      <td>female</td>\n",
       "      <td>38.0</td>\n",
       "      <td>1</td>\n",
       "      <td>0</td>\n",
       "      <td>PC 17599</td>\n",
       "      <td>71.2833</td>\n",
       "      <td>C85</td>\n",
       "      <td>C</td>\n",
       "    </tr>\n",
       "    <tr>\n",
       "      <th>2</th>\n",
       "      <td>3</td>\n",
       "      <td>1</td>\n",
       "      <td>3</td>\n",
       "      <td>Heikkinen, Miss. Laina</td>\n",
       "      <td>female</td>\n",
       "      <td>26.0</td>\n",
       "      <td>0</td>\n",
       "      <td>0</td>\n",
       "      <td>STON/O2. 3101282</td>\n",
       "      <td>7.9250</td>\n",
       "      <td>NaN</td>\n",
       "      <td>S</td>\n",
       "    </tr>\n",
       "    <tr>\n",
       "      <th>3</th>\n",
       "      <td>4</td>\n",
       "      <td>1</td>\n",
       "      <td>1</td>\n",
       "      <td>Futrelle, Mrs. Jacques Heath (Lily May Peel)</td>\n",
       "      <td>female</td>\n",
       "      <td>35.0</td>\n",
       "      <td>1</td>\n",
       "      <td>0</td>\n",
       "      <td>113803</td>\n",
       "      <td>53.1000</td>\n",
       "      <td>C123</td>\n",
       "      <td>S</td>\n",
       "    </tr>\n",
       "    <tr>\n",
       "      <th>4</th>\n",
       "      <td>5</td>\n",
       "      <td>0</td>\n",
       "      <td>3</td>\n",
       "      <td>Allen, Mr. William Henry</td>\n",
       "      <td>male</td>\n",
       "      <td>35.0</td>\n",
       "      <td>0</td>\n",
       "      <td>0</td>\n",
       "      <td>373450</td>\n",
       "      <td>8.0500</td>\n",
       "      <td>NaN</td>\n",
       "      <td>S</td>\n",
       "    </tr>\n",
       "    <tr>\n",
       "      <th>...</th>\n",
       "      <td>...</td>\n",
       "      <td>...</td>\n",
       "      <td>...</td>\n",
       "      <td>...</td>\n",
       "      <td>...</td>\n",
       "      <td>...</td>\n",
       "      <td>...</td>\n",
       "      <td>...</td>\n",
       "      <td>...</td>\n",
       "      <td>...</td>\n",
       "      <td>...</td>\n",
       "      <td>...</td>\n",
       "    </tr>\n",
       "    <tr>\n",
       "      <th>886</th>\n",
       "      <td>887</td>\n",
       "      <td>0</td>\n",
       "      <td>2</td>\n",
       "      <td>Montvila, Rev. Juozas</td>\n",
       "      <td>male</td>\n",
       "      <td>27.0</td>\n",
       "      <td>0</td>\n",
       "      <td>0</td>\n",
       "      <td>211536</td>\n",
       "      <td>13.0000</td>\n",
       "      <td>NaN</td>\n",
       "      <td>S</td>\n",
       "    </tr>\n",
       "    <tr>\n",
       "      <th>887</th>\n",
       "      <td>888</td>\n",
       "      <td>1</td>\n",
       "      <td>1</td>\n",
       "      <td>Graham, Miss. Margaret Edith</td>\n",
       "      <td>female</td>\n",
       "      <td>19.0</td>\n",
       "      <td>0</td>\n",
       "      <td>0</td>\n",
       "      <td>112053</td>\n",
       "      <td>30.0000</td>\n",
       "      <td>B42</td>\n",
       "      <td>S</td>\n",
       "    </tr>\n",
       "    <tr>\n",
       "      <th>888</th>\n",
       "      <td>889</td>\n",
       "      <td>0</td>\n",
       "      <td>3</td>\n",
       "      <td>Johnston, Miss. Catherine Helen \"Carrie\"</td>\n",
       "      <td>female</td>\n",
       "      <td>NaN</td>\n",
       "      <td>1</td>\n",
       "      <td>2</td>\n",
       "      <td>W./C. 6607</td>\n",
       "      <td>23.4500</td>\n",
       "      <td>NaN</td>\n",
       "      <td>S</td>\n",
       "    </tr>\n",
       "    <tr>\n",
       "      <th>889</th>\n",
       "      <td>890</td>\n",
       "      <td>1</td>\n",
       "      <td>1</td>\n",
       "      <td>Behr, Mr. Karl Howell</td>\n",
       "      <td>male</td>\n",
       "      <td>26.0</td>\n",
       "      <td>0</td>\n",
       "      <td>0</td>\n",
       "      <td>111369</td>\n",
       "      <td>30.0000</td>\n",
       "      <td>C148</td>\n",
       "      <td>C</td>\n",
       "    </tr>\n",
       "    <tr>\n",
       "      <th>890</th>\n",
       "      <td>891</td>\n",
       "      <td>0</td>\n",
       "      <td>3</td>\n",
       "      <td>Dooley, Mr. Patrick</td>\n",
       "      <td>male</td>\n",
       "      <td>32.0</td>\n",
       "      <td>0</td>\n",
       "      <td>0</td>\n",
       "      <td>370376</td>\n",
       "      <td>7.7500</td>\n",
       "      <td>NaN</td>\n",
       "      <td>Q</td>\n",
       "    </tr>\n",
       "  </tbody>\n",
       "</table>\n",
       "<p>891 rows × 12 columns</p>\n",
       "</div>"
      ],
      "text/plain": [
       "     PassengerId  Survived  Pclass  \\\n",
       "0              1         0       3   \n",
       "1              2         1       1   \n",
       "2              3         1       3   \n",
       "3              4         1       1   \n",
       "4              5         0       3   \n",
       "..           ...       ...     ...   \n",
       "886          887         0       2   \n",
       "887          888         1       1   \n",
       "888          889         0       3   \n",
       "889          890         1       1   \n",
       "890          891         0       3   \n",
       "\n",
       "                                                  Name     Sex   Age  SibSp  \\\n",
       "0                              Braund, Mr. Owen Harris    male  22.0      1   \n",
       "1    Cumings, Mrs. John Bradley (Florence Briggs Th...  female  38.0      1   \n",
       "2                               Heikkinen, Miss. Laina  female  26.0      0   \n",
       "3         Futrelle, Mrs. Jacques Heath (Lily May Peel)  female  35.0      1   \n",
       "4                             Allen, Mr. William Henry    male  35.0      0   \n",
       "..                                                 ...     ...   ...    ...   \n",
       "886                              Montvila, Rev. Juozas    male  27.0      0   \n",
       "887                       Graham, Miss. Margaret Edith  female  19.0      0   \n",
       "888           Johnston, Miss. Catherine Helen \"Carrie\"  female   NaN      1   \n",
       "889                              Behr, Mr. Karl Howell    male  26.0      0   \n",
       "890                                Dooley, Mr. Patrick    male  32.0      0   \n",
       "\n",
       "     Parch            Ticket     Fare Cabin Embarked  \n",
       "0        0         A/5 21171   7.2500   NaN        S  \n",
       "1        0          PC 17599  71.2833   C85        C  \n",
       "2        0  STON/O2. 3101282   7.9250   NaN        S  \n",
       "3        0            113803  53.1000  C123        S  \n",
       "4        0            373450   8.0500   NaN        S  \n",
       "..     ...               ...      ...   ...      ...  \n",
       "886      0            211536  13.0000   NaN        S  \n",
       "887      0            112053  30.0000   B42        S  \n",
       "888      2        W./C. 6607  23.4500   NaN        S  \n",
       "889      0            111369  30.0000  C148        C  \n",
       "890      0            370376   7.7500   NaN        Q  \n",
       "\n",
       "[891 rows x 12 columns]"
      ]
     },
     "execution_count": 7,
     "metadata": {},
     "output_type": "execute_result"
    }
   ],
   "source": [
    "# Importamos librería pandas\n",
    "import pandas as pd\n",
    "\n",
    "# Cargamos los datos del archivo titanic.csv y lo convertimos a un dataFrame\n",
    "titanic = pd.read_csv('Titanic.csv')\n",
    "\n",
    "df_titanic = pd.DataFrame(titanic)\n",
    "\n",
    "df_titanic\n"
   ]
  },
  {
   "cell_type": "markdown",
   "id": "b40e11af",
   "metadata": {},
   "source": []
  }
 ],
 "metadata": {
  "kernelspec": {
   "display_name": "Python 3 (ipykernel)",
   "language": "python",
   "name": "python3"
  },
  "language_info": {
   "codemirror_mode": {
    "name": "ipython",
    "version": 3
   },
   "file_extension": ".py",
   "mimetype": "text/x-python",
   "name": "python",
   "nbconvert_exporter": "python",
   "pygments_lexer": "ipython3",
   "version": "3.11.7"
  }
 },
 "nbformat": 4,
 "nbformat_minor": 5
}
