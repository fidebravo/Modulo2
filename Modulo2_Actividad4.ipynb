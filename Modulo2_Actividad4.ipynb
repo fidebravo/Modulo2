{
 "cells": [
  {
   "cell_type": "markdown",
   "id": "94a21981-32b5-4181-8fa6-25635867dafb",
   "metadata": {},
   "source": [
    "# Módulo 2 Ejercicio 4"
   ]
  },
  {
   "cell_type": "markdown",
   "id": "2e4dcdff-66fe-4a52-9f6c-4473aee3a3fd",
   "metadata": {},
   "source": [
    "**1. Continuaremos trabajando con nuestros datos de supermercado.  Para esto cargaremos los 4 archivos (clientes, boletas, detalle y productos) y responderemos a las siguientes preguntas:** s:"
   ]
  },
  {
   "cell_type": "markdown",
   "id": "6f1f6663-b3be-49e8-9fb8-f4d97d16eeb5",
   "metadata": {},
   "source": [
    "*a. Generar un DataFrame con cada archivo*"
   ]
  },
  {
   "cell_type": "code",
   "execution_count": null,
   "id": "f999cda7-528f-4424-b401-9ab3b24e0e78",
   "metadata": {},
   "outputs": [],
   "source": [
    "# Importamos librería Pandas\n",
    "import pandas as pd\n",
    "\n",
    "# Cargamos la información en una variable y luego las transformamos a DataFrame\n",
    "clientes = pd.read_csv('clientes.csv', encoding='latin1')\n",
    "boletas = pd.read_csv('boletas.csv', encoding='latin1')\n",
    "detalle = pd.read_csv('detalle.csv', encoding='latin1')\n",
    "productos = pd.read_csv('productos.csv', encoding='latin1')\n",
    "\n",
    "df_clientes = pd.DataFrame(clientes)\n",
    "df_boletas = pd.DataFrame(boletas)\n",
    "df_detalle  = pd.DataFrame(detalle)\n",
    "df_productos = pd.DataFrame(productos)\n"
   ]
  },
  {
   "cell_type": "code",
   "execution_count": null,
   "id": "6d079b0b-2a32-4778-ba52-5fb5bbbcbb9c",
   "metadata": {},
   "outputs": [],
   "source": []
  }
 ],
 "metadata": {
  "kernelspec": {
   "display_name": "Python 3 (ipykernel)",
   "language": "python",
   "name": "python3"
  },
  "language_info": {
   "codemirror_mode": {
    "name": "ipython",
    "version": 3
   },
   "file_extension": ".py",
   "mimetype": "text/x-python",
   "name": "python",
   "nbconvert_exporter": "python",
   "pygments_lexer": "ipython3",
   "version": "3.11.7"
  }
 },
 "nbformat": 4,
 "nbformat_minor": 5
}
