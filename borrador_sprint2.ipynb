{
 "cells": [
  {
   "cell_type": "markdown",
   "metadata": {},
   "source": [
    "*a) Ingresar producto: debe ingresarse el nombre y el precio del producto. Tendrá un sub menú: nuevo producto, guardar archivo o volver.*"
   ]
  },
  {
   "cell_type": "code",
   "execution_count": 36,
   "metadata": {},
   "outputs": [],
   "source": [
    "import pandas as pd\n",
    "from datetime import datetime\n",
    "\n",
    "\n",
    "g_detalle_facturas = []\n",
    "\n",
    "mix_inicial = {   \n",
    "    'nombre': ['Arroz', 'Fideos', 'Aceite de cocina', 'Harina', 'Leche', 'Azúcar', 'Café', 'Pan', 'Galletas', 'Mantequilla',\n",
    "               'Queso', 'Yogur', 'Agua mineral', 'Jugos', 'Frutas frescas', 'Verduras', 'Carne de pollo', 'Carne de res',\n",
    "               'Pescado', 'Helado'],\n",
    "    'precio': [1500, 1200, 18000, 2000, 3000, 2500, 5000, 1500, 3500, 2800, 6000, 2000, 1200, 4000, 7000, 5500, 4800, 10000, 9000, 2500]\n",
    "}\n",
    "\n",
    "# Precargar el diccionario productos_master con los datos proporcionados\n",
    "productos_master = {'producto': [{'nombre': nombre, 'precio': precio} for nombre, precio in zip(mix_inicial['nombre'], mix_inicial['precio'])]}\n",
    "\n",
    "def agregar_producto(productos_master, nombre_producto, precio_producto):\n",
    "    \n",
    "    if 'producto' in productos_master:\n",
    "        \n",
    "        if nombre_producto in [producto['nombre'] for producto in productos_master['producto']]:\n",
    "            print('_' * 50)\n",
    "            print(f\"El producto '{nombre_producto}' ya se encuentra en la lista.\")\n",
    "            print('_' * 50)\n",
    "        else:\n",
    "            \n",
    "            productos_master['producto'].append({'nombre': nombre_producto, 'precio': precio_producto})\n",
    "    else:\n",
    "        \n",
    "        productos_master['producto'] = [{'nombre': nombre_producto, 'precio': precio_producto}]\n",
    "\n",
    "def mostrar_productos_en_df(productos_master):\n",
    "    if 'producto' in productos_master:\n",
    "        df = pd.DataFrame(productos_master['producto'])\n",
    "        print(' Lista de Productos '.center(50, '='))\n",
    "        print('_' * 50)\n",
    "        print(df)\n",
    "    else:\n",
    "        print(\"El diccionario no contiene información de productos.\")\n",
    "\n",
    "#agregar_producto(productos_master, 'Manzana', 0.5)\n",
    "#agregar_producto(productos_master, 'Plátano', 0.3)\n",
    "#agregar_producto(productos_master, 'Naranja', 0.4)\n",
    "#agregar_producto(productos_master, 'Manzana', 0.5)  # Este producto ya está en la lista\n",
    "\n",
    "\n"
   ]
  },
  {
   "cell_type": "markdown",
   "metadata": {},
   "source": [
    "*b) Ingresar factura: debe ingresarse el nombre del cliente, luego deberá generar un submenú: ingresar producto, guardar y salir. Los productos se ingresan con nombre y precio. La factura además debe guardar la fecha y hora actual de la venta.*\n"
   ]
  },
  {
   "cell_type": "code",
   "execution_count": 58,
   "metadata": {},
   "outputs": [],
   "source": [
    "def ingresar_factura(nombre, productos_lista, precio_lista):\n",
    "    global g_codigo_factura\n",
    "    global g_monto_total_vendido\n",
    "    global g_detalle_facturas\n",
    "\n",
    "    fecha = datetime.now()\n",
    "    dia_factura = fecha.date()\n",
    "    hora_factura = fecha.time().strftime('%H:%M')\n",
    "\n",
    "    codigo_factura = str(fecha)\n",
    "    codigo_factura = codigo_factura.replace('-',  '').replace(':', '').replace('.', '').replace(' ', '')\n",
    "    codigo_factura_lista = [codigo_factura] * len(productos_lista)\n",
    "    nombre_lista = [nombre] * len(productos_lista)\n",
    "    dia = [dia_factura] * len(productos_lista)\n",
    "    hora = [hora_factura] * len(productos_lista)\n",
    "\n",
    "    df_factura = pd.DataFrame({'Codigo Factura' : codigo_factura_lista, 'Nombre Cliente': nombre_lista, 'Productos': productos_lista, '$': precio_lista, 'Fecha': dia, 'Hora': hora})\n",
    "\n",
    "    factura_productos_por_clientes = df_factura.groupby(['Nombre Cliente', 'Productos', 'Fecha', 'Hora'])['$'].sum().reset_index()\n",
    "\n",
    "    df_factura_productos_por_cliente = factura_productos_por_clientes.pivot_table(index=['Nombre Cliente', 'Productos'], columns=['Fecha', 'Hora'], values='$',\n",
    "                                                                                     aggfunc='sum', fill_value=0)\n",
    "\n",
    "    g_detalle_facturas.append(df_factura)\n",
    "    print(df_factura_productos_por_cliente)\n",
    "\n",
    "\n",
    "def ventas_por_usuario():\n",
    "\n",
    "    df_ventas_por_usuario = df.groupby(['Codigo Factura', 'Nombre Cliente'])['$'].sum().reset_index()\n",
    "    df_ventas_por_usuario = df_ventas_por_usuario.sort_values(by='Nombre Cliente')\n",
    "    print(df_ventas_por_usuario)\n",
    "\n",
    "    \n",
    "def ventas_por_producto():    \n",
    "    \n",
    "    df_ventas_por_producto = df.groupby('Productos')['$'].agg(TotalVendido='sum', CantidadVendida='count').reset_index()\n",
    "    print(df_ventas_por_producto)\n",
    "\n",
    "\n",
    "def ventas_diarias():\n",
    "\n",
    "    df_ventas_diarias = df.groupby(['Codigo Factura', 'Fecha', 'Nombre Cliente'])['$'].sum().reset_index()\n",
    "    df_ventas_diarias = df_ventas_diarias.groupby('Fecha')['$'].agg(Total='sum', Cantidad='count').reset_index()\n",
    "    print(df_ventas_diarias)\n",
    "\n",
    "def ventas_totales():\n",
    "\n",
    "    df_ventas_totales = df.groupby('Codigo Factura')['$'].sum().reset_index()\n",
    "\n",
    "    total_filas = len(df_ventas_totales)\n",
    "    total_venta = df_ventas_totales['$'].sum()\n",
    "\n",
    "    resumen_df = pd.DataFrame({\n",
    "        'Cantidad Ventas': [total_filas],\n",
    "        '$ Total Vendido': [total_venta]\n",
    "    })\n",
    "\n",
    "    print(resumen_df)\n",
    "\n",
    "\n"
   ]
  },
  {
   "cell_type": "code",
   "execution_count": 61,
   "metadata": {},
   "outputs": [
    {
     "name": "stdout",
     "output_type": "stream",
     "text": [
      "          Codigo Factura  Nombre Cliente Productos     $       Fecha   Hora\n",
      "0   20240331130521551546    José Ignacio   Manzana   350  2024-03-31  13:05\n",
      "1   20240331130521551546    José Ignacio   Plátano   520  2024-03-31  13:05\n",
      "2   20240331130521551546    José Ignacio  Condones    40  2024-03-31  13:05\n",
      "3   20240331130534687298  Deyanira Garay  Cigarros  3500  2024-03-31  13:05\n",
      "4   20240331130534687298  Deyanira Garay   Chicles   250  2024-03-31  13:05\n",
      "5   20240331174100051738  Deyanira Garay  Cigarros  3500  2024-03-31  17:41\n",
      "6   20240331174100051738  Deyanira Garay   Chicles   250  2024-03-31  17:41\n",
      "7   20240331174100082420    José Ignacio   Manzana   350  2024-03-31  17:41\n",
      "8   20240331174100082420    José Ignacio   Plátano   520  2024-03-31  17:41\n",
      "9   20240331174100082420    José Ignacio  Condones    40  2024-03-31  17:41\n",
      "10  20240331174234852658  Deyanira Garay  Cigarros  3500  2024-03-31  17:42\n",
      "11  20240331174234852658  Deyanira Garay   Chicles   250  2024-03-31  17:42\n",
      "12  20240331174234898681    José Ignacio   Manzana   350  2024-03-31  17:42\n",
      "13  20240331174234898681    José Ignacio   Plátano   520  2024-03-31  17:42\n",
      "14  20240331174234898681    José Ignacio  Condones    40  2024-03-31  17:42\n"
     ]
    }
   ],
   "source": [
    "\n",
    "\n",
    "# Convertir los datos en un DataFrame\n",
    "df = pd.concat([pd.DataFrame(item) for item in g_detalle_facturas], ignore_index=True)\n",
    "\n",
    "# Mostrar el DataFrame\n",
    "print(df)\n"
   ]
  },
  {
   "cell_type": "code",
   "execution_count": 60,
   "metadata": {},
   "outputs": [
    {
     "name": "stdout",
     "output_type": "stream",
     "text": [
      "Fecha                    2024-03-31\n",
      "Hora                          17:42\n",
      "Nombre Cliente Productos           \n",
      "Deyanira Garay Chicles          250\n",
      "               Cigarros        3500\n",
      "Fecha                    2024-03-31\n",
      "Hora                          17:42\n",
      "Nombre Cliente Productos           \n",
      "José Ignacio   Condones          40\n",
      "               Manzana          350\n",
      "               Plátano          520\n"
     ]
    }
   ],
   "source": [
    "\n",
    "nombreprueba1 = 'Deyanira Garay'\n",
    "productoprueba1 = ['Cigarros', 'Chicles']\n",
    "precioprueba1 = [3500, 250]\n",
    "\n",
    "ingresar_factura(nombreprueba1, productoprueba1, precioprueba1)\n",
    "\n",
    "nombre_prueba = 'José Ignacio'\n",
    "productos_prueba = ['Manzana', 'Plátano', 'Condones']\n",
    "precios_prueba = [350, 520, 40]\n",
    "\n",
    "ingresar_factura(nombre_prueba, productos_prueba, precios_prueba)"
   ]
  },
  {
   "cell_type": "code",
   "execution_count": 65,
   "metadata": {},
   "outputs": [
    {
     "name": "stdout",
     "output_type": "stream",
     "text": [
      "   Cantidad Ventas  $ Total Vendido\n",
      "0                6            13980\n"
     ]
    }
   ],
   "source": [
    "\n",
    "\n",
    "\n"
   ]
  },
  {
   "cell_type": "code",
   "execution_count": 66,
   "metadata": {},
   "outputs": [
    {
     "name": "stdout",
     "output_type": "stream",
     "text": [
      "          Codigo Factura  Nombre Cliente Productos     $       Fecha   Hora\n",
      "0   20240331130521551546    José Ignacio   Manzana   350  2024-03-31  13:05\n",
      "1   20240331130521551546    José Ignacio   Plátano   520  2024-03-31  13:05\n",
      "2   20240331130521551546    José Ignacio  Condones    40  2024-03-31  13:05\n",
      "3   20240331130534687298  Deyanira Garay  Cigarros  3500  2024-03-31  13:05\n",
      "4   20240331130534687298  Deyanira Garay   Chicles   250  2024-03-31  13:05\n",
      "5   20240331174100051738  Deyanira Garay  Cigarros  3500  2024-03-31  17:41\n",
      "6   20240331174100051738  Deyanira Garay   Chicles   250  2024-03-31  17:41\n",
      "7   20240331174100082420    José Ignacio   Manzana   350  2024-03-31  17:41\n",
      "8   20240331174100082420    José Ignacio   Plátano   520  2024-03-31  17:41\n",
      "9   20240331174100082420    José Ignacio  Condones    40  2024-03-31  17:41\n",
      "10  20240331174234852658  Deyanira Garay  Cigarros  3500  2024-03-31  17:42\n",
      "11  20240331174234852658  Deyanira Garay   Chicles   250  2024-03-31  17:42\n",
      "12  20240331174234898681    José Ignacio   Manzana   350  2024-03-31  17:42\n",
      "13  20240331174234898681    José Ignacio   Plátano   520  2024-03-31  17:42\n",
      "14  20240331174234898681    José Ignacio  Condones    40  2024-03-31  17:42\n"
     ]
    }
   ],
   "source": [
    "# Convertir los datos en un DataFrame\n",
    "df = pd.concat([pd.DataFrame(item) for item in g_detalle_facturas], ignore_index=True)\n",
    "\n",
    "# Mostrar el DataFrame\n",
    "print(df)"
   ]
  },
  {
   "cell_type": "code",
   "execution_count": null,
   "metadata": {},
   "outputs": [],
   "source": []
  }
 ],
 "metadata": {
  "kernelspec": {
   "display_name": "base",
   "language": "python",
   "name": "python3"
  },
  "language_info": {
   "codemirror_mode": {
    "name": "ipython",
    "version": 3
   },
   "file_extension": ".py",
   "mimetype": "text/x-python",
   "name": "python",
   "nbconvert_exporter": "python",
   "pygments_lexer": "ipython3",
   "version": "3.11.7"
  }
 },
 "nbformat": 4,
 "nbformat_minor": 2
}
