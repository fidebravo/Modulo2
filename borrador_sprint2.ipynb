{
 "cells": [
  {
   "cell_type": "code",
   "execution_count": 25,
   "metadata": {},
   "outputs": [
    {
     "name": "stdout",
     "output_type": "stream",
     "text": [
      "=============== Lista de Productos ===============\n",
      "__________________________________________________\n",
      "              nombre  precio\n",
      "0              Arroz    1500\n",
      "1             Fideos    1200\n",
      "2   Aceite de cocina   18000\n",
      "3             Harina    2000\n",
      "4              Leche    3000\n",
      "5             Azúcar    2500\n",
      "6               Café    5000\n",
      "7                Pan    1500\n",
      "8           Galletas    3500\n",
      "9        Mantequilla    2800\n",
      "10             Queso    6000\n",
      "11             Yogur    2000\n",
      "12      Agua mineral    1200\n",
      "13             Jugos    4000\n",
      "14    Frutas frescas    7000\n",
      "15          Verduras    5500\n",
      "16    Carne de pollo    4800\n",
      "17      Carne de res   10000\n",
      "18           Pescado    9000\n",
      "19            Helado    2500\n"
     ]
    }
   ],
   "source": [
    "import pandas as pd\n",
    "\n",
    "mix_inicial = {   \n",
    "    'nombre': ['Arroz', 'Fideos', 'Aceite de cocina', 'Harina', 'Leche', 'Azúcar', 'Café', 'Pan', 'Galletas', 'Mantequilla',\n",
    "               'Queso', 'Yogur', 'Agua mineral', 'Jugos', 'Frutas frescas', 'Verduras', 'Carne de pollo', 'Carne de res',\n",
    "               'Pescado', 'Helado'],\n",
    "    'precio': [1500, 1200, 18000, 2000, 3000, 2500, 5000, 1500, 3500, 2800, 6000, 2000, 1200, 4000, 7000, 5500, 4800, 10000, 9000, 2500]\n",
    "}\n",
    "\n",
    "# Precargar el diccionario productos_master con los datos proporcionados\n",
    "productos_master = {'producto': [{'nombre': nombre, 'precio': precio} for nombre, precio in zip(mix_inicial['nombre'], mix_inicial['precio'])]}\n",
    "\n",
    "def agregar_producto(productos_master, nombre_producto, precio_producto):\n",
    "    # Verificar si la clave 'producto' ya existe en el diccionario\n",
    "    if 'producto' in productos_master:\n",
    "        # Verificar si el nombre del producto ya está en la lista\n",
    "        if nombre_producto in [producto['nombre'] for producto in productos_master['producto']]:\n",
    "            print('_' * 50)\n",
    "            print(f\"El producto '{nombre_producto}' ya se encuentra en la lista.\")\n",
    "            print('_' * 50)\n",
    "        else:\n",
    "            # Agregar el nombre del producto y su precio a la lista existente\n",
    "            productos_master['producto'].append({'nombre': nombre_producto, 'precio': precio_producto})\n",
    "    else:\n",
    "        # Crear una nueva lista con el nombre del producto y su precio\n",
    "        productos_master['producto'] = [{'nombre': nombre_producto, 'precio': precio_producto}]\n",
    "\n",
    "def mostrar_productos_en_df(productos_master):\n",
    "    if 'producto' in productos_master:\n",
    "        df = pd.DataFrame(productos_master['producto'])\n",
    "        print(' Lista de Productos '.center(50, '='))\n",
    "        print('_' * 50)\n",
    "        print(df)\n",
    "    else:\n",
    "        print(\"El diccionario no contiene información de productos.\")\n",
    "\n",
    "# Ejemplo de uso:\n",
    "#agregar_producto(productos_master, 'Manzana', 0.5)\n",
    "#agregar_producto(productos_master, 'Plátano', 0.3)\n",
    "#agregar_producto(productos_master, 'Naranja', 0.4)\n",
    "#agregar_producto(productos_master, 'Manzana', 0.5)  # Este producto ya está en la lista\n",
    "\n",
    "mostrar_productos_en_df(productos_master)\n"
   ]
  },
  {
   "cell_type": "code",
   "execution_count": 26,
   "metadata": {},
   "outputs": [
    {
     "name": "stdout",
     "output_type": "stream",
     "text": [
      "=============== Lista de Productos ===============\n",
      "__________________________________________________\n",
      "              nombre  precio\n",
      "0              Arroz    1500\n",
      "1             Fideos    1200\n",
      "2   Aceite de cocina   18000\n",
      "3             Harina    2000\n",
      "4              Leche    3000\n",
      "5             Azúcar    2500\n",
      "6               Café    5000\n",
      "7                Pan    1500\n",
      "8           Galletas    3500\n",
      "9        Mantequilla    2800\n",
      "10             Queso    6000\n",
      "11             Yogur    2000\n",
      "12      Agua mineral    1200\n",
      "13             Jugos    4000\n",
      "14    Frutas frescas    7000\n",
      "15          Verduras    5500\n",
      "16    Carne de pollo    4800\n",
      "17      Carne de res   10000\n",
      "18           Pescado    9000\n",
      "19            Helado    2500\n",
      "20             Porro    1500\n"
     ]
    }
   ],
   "source": [
    "agregar_producto(productos_master, 'Porro', 1500)\n",
    "mostrar_productos_en_df(productos_master)"
   ]
  }
 ],
 "metadata": {
  "kernelspec": {
   "display_name": "base",
   "language": "python",
   "name": "python3"
  },
  "language_info": {
   "codemirror_mode": {
    "name": "ipython",
    "version": 3
   },
   "file_extension": ".py",
   "mimetype": "text/x-python",
   "name": "python",
   "nbconvert_exporter": "python",
   "pygments_lexer": "ipython3",
   "version": "3.11.7"
  }
 },
 "nbformat": 4,
 "nbformat_minor": 2
}
