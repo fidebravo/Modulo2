{
 "cells": [
  {
   "cell_type": "code",
   "execution_count": null,
   "id": "bd331708-b32b-4524-a531-54a4aadba9e4",
   "metadata": {},
   "outputs": [],
   "source": [
    "# Importamos libreria Pandas\n",
    "import pandas as pd\n",
    "\n",
    "# Creamos DataFrames con cada variable\n",
    "df_boletas = pd.read_csv('boletas.csv', encoding='latin1')\n",
    "df_clientes = pd.read_csv('clientes.csv', encoding='latin1')\n",
    "df_detalle = pd.read_csv('detalle.csv', encoding='latin1')\n",
    "df_productos = pd.read_csv('productos.csv', encoding='latin1')\n",
    "\n",
    "df_clientes1 = pd.DataFrame(df_clientes)\n",
    "df_clientes1\n"
   ]
  },
  {
   "cell_type": "code",
   "execution_count": null,
   "id": "65cc33b0-98f0-49ce-a12d-8708f1e6dae9",
   "metadata": {},
   "outputs": [],
   "source": [
    "from datetime import datetime\n",
    "\n",
    "df_clientes1['fecha_nacimiento'] = pd.to_datetime(df_clientes1['fecha_nacimiento'])\n",
    "\n",
    "df_clientes1\n"
   ]
  },
  {
   "cell_type": "code",
   "execution_count": null,
   "id": "31e7d96b-06ce-4c4d-8713-b62c57b8fa7b",
   "metadata": {},
   "outputs": [],
   "source": [
    "# Calcular edad\n",
    "fecha_actual = datetime.now()\n",
    "df_clientes1['edad'] = fecha_actual.year - df_clientes1['fecha_nacimiento'].dt.year - (\n",
    "    (fecha_actual.month < df_clientes1['fecha_nacimiento'].dt.month) |\n",
    "     ((fecha_actual.month == df_clientes1['fecha_nacimiento'].dt.month) & (fecha_actual.day < df_clientes1['fecha_nacimiento'].dt.day))).apply(int)\n",
    "\n",
    "df_clientes1\n",
    "\n"
   ]
  },
  {
   "cell_type": "code",
   "execution_count": null,
   "id": "80d4405e-9bf2-4269-a2d7-b8a651487881",
   "metadata": {},
   "outputs": [],
   "source": [
    "import pandas as pd\n",
    "from datetime import datetime\n",
    "\n",
    "'''# Crea un DataFrame de ejemplo\n",
    "data = {'fecha_nacimiento': ['1990-05-15', '1985-12-20', '1992-03-10']}\n",
    "df = pd.DataFrame(data)\n",
    "\n",
    "# Convierte la columna 'fecha_nacimiento' al tipo datetime\n",
    "df['fecha_nacimiento'] = pd.to_datetime(df['fecha_nacimiento'])'''\n",
    "\n",
    "# Calcula la edad\n",
    "fecha_actual = datetime.now()\n",
    "df['edad'] = fecha_actual.year - df['fecha_nacimiento'].dt.year - (\n",
    "    (fecha_actual.month < df['fecha_nacimiento'].dt.month) |\n",
    "    ((fecha_actual.month == df['fecha_nacimiento'].dt.month) & (fecha_actual.day < df['fecha_nacimiento'].dt.day))\n",
    ").apply(int)\n",
    "\n",
    "# Muestra el DataFrame con la nueva columna de edad\n",
    "print(df)"
   ]
  }
 ],
 "metadata": {
  "kernelspec": {
   "display_name": "Python 3 (ipykernel)",
   "language": "python",
   "name": "python3"
  },
  "language_info": {
   "codemirror_mode": {
    "name": "ipython",
    "version": 3
   },
   "file_extension": ".py",
   "mimetype": "text/x-python",
   "name": "python",
   "nbconvert_exporter": "python",
   "pygments_lexer": "ipython3",
   "version": "3.11.7"
  }
 },
 "nbformat": 4,
 "nbformat_minor": 5
}
