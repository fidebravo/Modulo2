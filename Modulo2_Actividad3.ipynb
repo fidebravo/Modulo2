{
 "cells": [
  {
   "cell_type": "markdown",
   "id": "bfc1b60d-4e4e-4431-8e51-eccdea7b682a",
   "metadata": {},
   "source": [
    "# Modulo 2 Actividad 3"
   ]
  },
  {
   "cell_type": "markdown",
   "id": "113425be-6dfb-4663-a023-c177f15e3e2c",
   "metadata": {},
   "source": [
    "**1. En esta oportunidad vamos a utilizar los datos de compra de un supermercado, \"ARCHIVOS SUPERMERCADOS AER3.rar\"**"
   ]
  },
  {
   "cell_type": "markdown",
   "id": "d99de3af-c2d9-4595-a983-976bbd26316d",
   "metadata": {},
   "source": [
    "*a. Junto a este archivo, se encuentran los archivos csv para clientes, productos, boletas y detalle.  Cargue, los datos de los archvos en sus respectivas variables.*"
   ]
  },
  {
   "cell_type": "code",
   "execution_count": null,
   "id": "2dd6bc24-a393-416f-bab3-a309ae075fdc",
   "metadata": {},
   "outputs": [],
   "source": [
    "# Importamos libreria Pandas\n",
    "import pandas as pd\n",
    "\n",
    "# Creamos variables de lectura de los archivos csv\n",
    "boletas = pd.read_csv('boletas.csv', encoding='latin1')\n",
    "clientes = pd.read_csv('clientes.csv', encoding='latin1')\n",
    "detalle = pd.read_csv('detalle.csv', encoding='latin1')\n",
    "productos = pd.read_csv('productos.csv', encoding='latin1')\n",
    "\n",
    "# Creamos DataFrames con las variables de lectura\n",
    "df_boletas = pd.DataFrame(boletas)\n",
    "df_clientes = pd.DataFrame(clientes)\n",
    "df_detalle = pd.DataFrame(detalle)\n",
    "df_productos = pd.DataFrame(productos)\n",
    "\n"
   ]
  },
  {
   "cell_type": "markdown",
   "id": "73fb1543-4085-46c7-af63-fbd878628391",
   "metadata": {},
   "source": [
    "*b. Ahora que tenemos los datos, podemos trabajar con ellos.  Lo primero que haremos será calcular las edades.  Para esto, agregue una nueva columna a los datos de los clientes, que calcule la edad a partir de su fecha de nacimientoto.*"
   ]
  },
  {
   "cell_type": "code",
   "execution_count": null,
   "id": "d70877ad-5695-4c5a-bc8a-a2f3c3083897",
   "metadata": {},
   "outputs": [],
   "source": [
    "# De la clase datetime importamos el módulo datetime para ejecutar los calculos\n",
    "from datetime import datetime\n",
    "\n",
    "# Transformamos los datos de la serie 'fecha_nacimiento' a tipo datetime\n",
    "df_clientes['fecha_nacimiento'] = pd.to_datetime(df_clientes['fecha_nacimiento'])\n",
    "\n",
    "# Para calcular la edad creamos una variable fecha_actual\n",
    "fecha_actual = datetime.now()\n",
    "\n",
    "# Creamos una nueva columna en el DataFrame df_clientes con la edad calculada de cada cliente\n",
    "df_clientes['edad'] = fecha_actual.year - df_clientes['fecha_nacimiento'].dt.year - (\n",
    "    (fecha_actual.month < df_clientes['fecha_nacimiento'].dt.month) |\n",
    "     ((fecha_actual.month == df_clientes['fecha_nacimiento'].dt.month) & (fecha_actual.day < df_clientes['fecha_nacimiento'].dt.day))).apply(int)\n",
    "\n",
    "# Imprimimos el resultado del df_clientes edad incluida\n",
    "df_clientes\n"
   ]
  },
  {
   "cell_type": "markdown",
   "id": "04ffd29d-7adc-4b8d-b321-df41ac0e407f",
   "metadata": {},
   "source": [
    "*c. Calcular el promedio de edad*"
   ]
  },
  {
   "cell_type": "code",
   "execution_count": null,
   "id": "528ec543-2897-4e5d-8609-173e9f552df3",
   "metadata": {},
   "outputs": [],
   "source": [
    "# Calculamos la edad promedio de los clientes usando el metodo mean() e imprimimos el resultado\n",
    "edad_promedio = df_clientes['edad'].mean()\n",
    "print(f'La edad promedio de los clientes es {edad_promedio}')\n",
    "\n"
   ]
  },
  {
   "cell_type": "markdown",
   "id": "07cbe450-3d62-4a95-b75d-16e5648def9d",
   "metadata": {},
   "source": [
    "*d. ¿Cuál es el cliente con la edad mayor?*"
   ]
  },
  {
   "cell_type": "code",
   "execution_count": null,
   "id": "a352cbfa-c145-43f6-b6e9-60f906ad738f",
   "metadata": {},
   "outputs": [],
   "source": [
    "# Usamos el método idxmax() para encontrar el índice de la fila de mayor edad\n",
    "indice_mayor_edad = df_clientes['edad'].idxmax()\n",
    "\n",
    "# Usamos .loc para elegir la fila del índice de mayor edad\n",
    "persona_mayor_edad = df_clientes.loc[indice_mayor_edad]\n",
    "\n",
    "# Creamos variable que formatea el mensaje con el nombre y la edad de la persona de mayor edad\n",
    "mensaje = f\"La persona de mayor edad es {persona_mayor_edad['nombre']} con {persona_mayor_edad['edad']} años.\"\n",
    "\n",
    "# Imprime el mensaje\n",
    "print(mensaje)\n"
   ]
  },
  {
   "cell_type": "markdown",
   "id": "dc1a4545-e62f-4080-9c52-113199ea1330",
   "metadata": {},
   "source": [
    "*e. ¿Cuál es el menor?*"
   ]
  },
  {
   "cell_type": "code",
   "execution_count": null,
   "id": "8b51abfa-e3b0-4525-b930-ec768e49e462",
   "metadata": {},
   "outputs": [],
   "source": [
    "# Usamos el método idxmax() para encontrar el índice de la fila de menor edad\n",
    "indice_menor_edad = df_clientes['edad'].idxmin()\n",
    "\n",
    "# # Usamos .loc para elegir la fila del índice de menor edad\n",
    "persona_menor_edad = df_clientes.loc[indice_menor_edad]\n",
    "\n",
    "# Creamos variable que formatea el mensaje con el nombre y la edad de la persona de menor edad\n",
    "mensaje = f\"La persona de menor edad es {persona_menor_edad['nombre']} con {persona_menor_edad['edad']} años.\"\n",
    "\n",
    "# Imprime el mensaje\n",
    "print(mensaje)\n"
   ]
  },
  {
   "cell_type": "markdown",
   "id": "0250d5e6-c461-43f6-8b6e-30e042d01fcd",
   "metadata": {},
   "source": [
    "*f. Buscar cuantas boletas tiene cada cliente, fusionar clientes con boletas a traves del rut*."
   ]
  },
  {
   "cell_type": "code",
   "execution_count": null,
   "id": "5a5d9e14-caf4-47af-8d63-c377f0963fec",
   "metadata": {},
   "outputs": [],
   "source": [
    "# Creamos df_numero_boletas mediante la fusión de los df 'clientes' (rut) y 'boletas' campos (rut_cliente) conservando la estructura de clientes (how=left)\n",
    "df_numero_boletas = pd.merge(df_clientes, df_boletas, left_on='rut', right_on='rut_cliente', how='left')\n",
    "\n",
    "# Del nuevo df_numero_boletas, eliminamos la columna 'rut_cliente' con metodo .dpro() para evitar repetición de info\n",
    "df_numero_boletas.drop(columns=['rut_cliente'], inplace=True)\n",
    "\n",
    "# Creamos df_conteo_boletas con método .groupby() que cuenta la cantidad de boletas por cliente y las agrupa en columna calculada 'numero_boletas'\n",
    "df_conteo_boletas = df_numero_boletas.groupby(['rut', 'nombre'])['numero'].count().reset_index(name='numero_boletas')\n",
    "\n",
    "# Imprimimos df con información solicitada\n",
    "df_conteo_boletas\n"
   ]
  },
  {
   "cell_type": "markdown",
   "id": "13ba4592-0cf4-4886-8165-d95e60bf9c9a",
   "metadata": {},
   "source": [
    "*g. Ahora, queremos hacer algo parecido con los productos.  Calcular cuánto se ha vendido (en dinero) de cada producto.*\r"
   ]
  },
  {
   "cell_type": "code",
   "execution_count": null,
   "id": "aa1de626-de30-4bbd-9a8b-20c116c49276",
   "metadata": {},
   "outputs": [],
   "source": [
    "# Creamos df_productos_vendidos que agrupa la cantidad de ventas por productos del df_detalle.\n",
    "df_productos_vendidos = df_detalle.groupby(['codigo_producto'])['cantidad'].count().reset_index(name='total_vendidos')\n",
    "\n",
    "# Creamos df_venta mediante la fusión de los df 'productos' (codigo) y 'df_productos_vendidos' (codigo_producto) conservando la estructura de df_productos (how=left)\n",
    "df_venta = pd.merge(df_productos, df_productos_vendidos, left_on='codigo', right_on='codigo_producto', how='left')\n",
    "\n",
    "# Del nuevo df_venta, eliminamos la columna 'codigo_producto' con metodo .dpro() para evitar repetición de info\n",
    "df_venta.drop(columns=['codigo_producto'], inplace=True)\n",
    "\n",
    "# Creamos columna calculada para el monto_total_venta de cada producto (precio * cantidad)\n",
    "df_venta['monto_total_venta'] = df_venta['precio'] * df_venta['total_vendidos']\n",
    "\n",
    "# Desplegamos en pantalla el df_venta\n",
    "df_venta\n",
    "\n"
   ]
  },
  {
   "cell_type": "markdown",
   "id": "2e0ffe58-deb6-47b8-bc0f-f616a0bcde3b",
   "metadata": {},
   "source": [
    "*h. Agregar los productos que nunca se han vendido con un 0.*\r\n"
   ]
  },
  {
   "cell_type": "code",
   "execution_count": null,
   "id": "a34221fa-df44-4ae6-9a9e-bcccbf5fe4fc",
   "metadata": {},
   "outputs": [],
   "source": [
    "# Usamos el método .fillna() para completar con 0 los datos con entrada NaN\n",
    "df_venta = df_venta.fillna(0)\n",
    "\n",
    "# Desplegamos en pantalla la información actualizada del df_venta\n",
    "df_venta\n"
   ]
  },
  {
   "cell_type": "code",
   "execution_count": null,
   "id": "5b39dc3b-e184-4410-b4ec-3a52c3a10a54",
   "metadata": {},
   "outputs": [],
   "source": []
  }
 ],
 "metadata": {
  "kernelspec": {
   "display_name": "Python 3 (ipykernel)",
   "language": "python",
   "name": "python3"
  },
  "language_info": {
   "codemirror_mode": {
    "name": "ipython",
    "version": 3
   },
   "file_extension": ".py",
   "mimetype": "text/x-python",
   "name": "python",
   "nbconvert_exporter": "python",
   "pygments_lexer": "ipython3",
   "version": "3.11.7"
  }
 },
 "nbformat": 4,
 "nbformat_minor": 5
}
