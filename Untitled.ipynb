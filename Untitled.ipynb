{
 "cells": [
  {
   "cell_type": "code",
   "execution_count": null,
   "id": "eec86d3b-e0b7-48a3-9ea6-49f4f0fd411b",
   "metadata": {},
   "outputs": [],
   "source": [
    "# Importamos libreria Pandas\n",
    "import pandas as pd\n",
    "\n",
    "# Creamos DataFrames con cada variable\n",
    "df_boletas = pd.read_csv('boletas.csv', encoding='latin1')\n",
    "df_clientes = pd.read_csv('clientes.csv', encoding='latin1')\n",
    "df_detalle = pd.read_csv('detalle.csv', encoding='latin1')\n",
    "df_productos = pd.read_csv('productos.csv', encoding='latin1')\n",
    "\n"
   ]
  },
  {
   "cell_type": "code",
   "execution_count": null,
   "id": "bea66be7-0331-4eb0-90f5-7c8c33a8458e",
   "metadata": {},
   "outputs": [],
   "source": [
    "from datetime import datetime\n",
    "\n",
    "# Leer el archivo CSV y seleccionar solo las columnas 'nombre' y 'fecha_nacimiento'\n",
    "df_nom_fe_nac = pd.read_csv('clientes.csv', encoding='latin1', usecols=['nombre', 'fecha_nacimiento'])\n",
    "\n",
    "df_n_f_n = pd.DataFrame(df_nom_fe_nac)\n",
    "# Mostrar el DataFrame\n",
    "df_n_f_n\n"
   ]
  },
  {
   "cell_type": "code",
   "execution_count": null,
   "id": "0ff6b61b-6266-45ff-a630-19c03e0ddeaa",
   "metadata": {},
   "outputs": [],
   "source": [
    "df_n_f_n = pd.to_datetime(df_n_f_n['fecha_nacimiento']).dt.date\n"
   ]
  },
  {
   "cell_type": "code",
   "execution_count": null,
   "id": "db20c832-4133-4da4-9dc7-70c6fd7da8d7",
   "metadata": {},
   "outputs": [],
   "source": [
    "df_n_f_n\n"
   ]
  },
  {
   "cell_type": "code",
   "execution_count": null,
   "id": "d04db933-32c3-4f60-9574-3eb1e3be96a1",
   "metadata": {},
   "outputs": [],
   "source": [
    "df_edad.loc[:, 'fecha_nacimiento'] = pd.to_datetime(df_edad['fecha_nacimiento']).dt.date\n",
    "\n",
    "df_edad\n"
   ]
  },
  {
   "cell_type": "code",
   "execution_count": null,
   "id": "b4ff7090-52f9-4f08-b9c2-fcd424df1934",
   "metadata": {},
   "outputs": [],
   "source": [
    "df_edad = df_nom_fe_nac.dropna(subset=['fecha_nacimiento'])\n",
    "df_edad\n",
    "\n"
   ]
  },
  {
   "cell_type": "code",
   "execution_count": null,
   "id": "de546cb3-6198-4dd2-bd2b-ebe6c999a67b",
   "metadata": {},
   "outputs": [],
   "source": [
    "try:\n",
    "    fecha_actual = datetime.now().dt.date\n",
    "    df_edad['edad'] = ((fecha_actual - df_edad['fecha_nacimiento']).dt.days / 365.25).astype(int)\n",
    "except AttributeError as e:\n",
    "    print(f\"Error: {e}\")\n",
    "\n"
   ]
  },
  {
   "cell_type": "code",
   "execution_count": null,
   "id": "51922e0c-af9c-4cb9-a21e-c5260b543c51",
   "metadata": {},
   "outputs": [],
   "source": [
    "from datetime import datetime\n",
    "\n",
    "fecha = datetime.now()\n",
    "fecha_anio = fecha.year\n",
    "fecha_mes = fecha.month\n",
    "fecha_dia = fecha.day\n",
    "print(fecha_anio)\n",
    "print(fecha_mes)\n",
    "print(fecha_dia)\n",
    "\n"
   ]
  },
  {
   "cell_type": "code",
   "execution_count": null,
   "id": "22fd75c7-632c-4f09-8d7f-e9d3431a5f52",
   "metadata": {},
   "outputs": [],
   "source": [
    "import pandas as pd\n",
    "from datetime import datetime\n",
    "\n",
    "# Crea un DataFrame de ejemplo\n",
    "data = {'fecha_nacimiento': ['1990-05-15', '1985-12-20', '1992-03-10']}\n",
    "df = pd.DataFrame(data)\n",
    "\n",
    "# Convierte la columna 'fecha_nacimiento' al tipo datetime\n",
    "df['fecha_nacimiento'] = pd.to_datetime(df['fecha_nacimiento'])\n",
    "\n",
    "# Calcula la edad\n",
    "fecha_actual = datetime.now()\n",
    "df['edad'] = ((fecha_actual - df['fecha_nacimiento']).dt.days / 365.25).astype(int)\n",
    "\n",
    "# Muestra el DataFrame con la nueva columna de edad\n",
    "print(df)\n"
   ]
  },
  {
   "cell_type": "code",
   "execution_count": null,
   "id": "8adb9966-e9e5-4e32-b7d1-2bd3b723586a",
   "metadata": {},
   "outputs": [],
   "source": [
    "from datetime import datetime\n",
    "hoy = datetime.now()\n",
    "hoy = hoy.dt.date\n",
    "print(hoy)\n"
   ]
  },
  {
   "cell_type": "code",
   "execution_count": 1,
   "id": "d069f713-87d4-427a-8a8e-d989f97ded3f",
   "metadata": {},
   "outputs": [
    {
     "ename": "ValueError",
     "evalue": "The truth value of a Series is ambiguous. Use a.empty, a.bool(), a.item(), a.any() or a.all().",
     "output_type": "error",
     "traceback": [
      "\u001b[1;31m---------------------------------------------------------------------------\u001b[0m",
      "\u001b[1;31mValueError\u001b[0m                                Traceback (most recent call last)",
      "\u001b[1;32m~\\AppData\\Local\\Temp\\ipykernel_3340\\625831794.py\u001b[0m in \u001b[0;36m?\u001b[1;34m()\u001b[0m\n\u001b[0;32m     10\u001b[0m \u001b[1;33m\u001b[0m\u001b[0m\n\u001b[0;32m     11\u001b[0m \u001b[1;31m# Calcula la edad\u001b[0m\u001b[1;33m\u001b[0m\u001b[1;33m\u001b[0m\u001b[0m\n\u001b[0;32m     12\u001b[0m \u001b[0mfecha_actual\u001b[0m \u001b[1;33m=\u001b[0m \u001b[0mdatetime\u001b[0m\u001b[1;33m.\u001b[0m\u001b[0mnow\u001b[0m\u001b[1;33m(\u001b[0m\u001b[1;33m)\u001b[0m\u001b[1;33m\u001b[0m\u001b[1;33m\u001b[0m\u001b[0m\n\u001b[0;32m     13\u001b[0m df['edad'] = fecha_actual.year - df['fecha_nacimiento'].dt.year - (\n\u001b[1;32m---> 14\u001b[1;33m     \u001b[1;33m(\u001b[0m\u001b[0mfecha_actual\u001b[0m\u001b[1;33m.\u001b[0m\u001b[0mmonth\u001b[0m\u001b[1;33m,\u001b[0m \u001b[0mfecha_actual\u001b[0m\u001b[1;33m.\u001b[0m\u001b[0mday\u001b[0m\u001b[1;33m)\u001b[0m \u001b[1;33m<\u001b[0m \u001b[1;33m(\u001b[0m\u001b[0mdf\u001b[0m\u001b[1;33m[\u001b[0m\u001b[1;34m'fecha_nacimiento'\u001b[0m\u001b[1;33m]\u001b[0m\u001b[1;33m.\u001b[0m\u001b[0mdt\u001b[0m\u001b[1;33m.\u001b[0m\u001b[0mmonth\u001b[0m\u001b[1;33m,\u001b[0m \u001b[0mdf\u001b[0m\u001b[1;33m[\u001b[0m\u001b[1;34m'fecha_nacimiento'\u001b[0m\u001b[1;33m]\u001b[0m\u001b[1;33m.\u001b[0m\u001b[0mdt\u001b[0m\u001b[1;33m.\u001b[0m\u001b[0mday\u001b[0m\u001b[1;33m)\u001b[0m\u001b[1;33m\u001b[0m\u001b[1;33m\u001b[0m\u001b[0m\n\u001b[0m\u001b[0;32m     15\u001b[0m ).apply(int)\n\u001b[0;32m     16\u001b[0m \u001b[1;33m\u001b[0m\u001b[0m\n\u001b[0;32m     17\u001b[0m \u001b[1;31m# Muestra el DataFrame con la nueva columna de edad\u001b[0m\u001b[1;33m\u001b[0m\u001b[1;33m\u001b[0m\u001b[0m\n",
      "\u001b[1;32m~\\anaconda3\\Lib\\site-packages\\pandas\\core\\generic.py\u001b[0m in \u001b[0;36m?\u001b[1;34m(self)\u001b[0m\n\u001b[0;32m   1517\u001b[0m     \u001b[1;33m@\u001b[0m\u001b[0mfinal\u001b[0m\u001b[1;33m\u001b[0m\u001b[1;33m\u001b[0m\u001b[0m\n\u001b[0;32m   1518\u001b[0m     \u001b[1;32mdef\u001b[0m \u001b[0m__nonzero__\u001b[0m\u001b[1;33m(\u001b[0m\u001b[0mself\u001b[0m\u001b[1;33m)\u001b[0m \u001b[1;33m->\u001b[0m \u001b[0mNoReturn\u001b[0m\u001b[1;33m:\u001b[0m\u001b[1;33m\u001b[0m\u001b[1;33m\u001b[0m\u001b[0m\n\u001b[1;32m-> 1519\u001b[1;33m         raise ValueError(\n\u001b[0m\u001b[0;32m   1520\u001b[0m             \u001b[1;34mf\"The truth value of a {type(self).__name__} is ambiguous. \"\u001b[0m\u001b[1;33m\u001b[0m\u001b[1;33m\u001b[0m\u001b[0m\n\u001b[0;32m   1521\u001b[0m             \u001b[1;34m\"Use a.empty, a.bool(), a.item(), a.any() or a.all().\"\u001b[0m\u001b[1;33m\u001b[0m\u001b[1;33m\u001b[0m\u001b[0m\n\u001b[0;32m   1522\u001b[0m         )\n",
      "\u001b[1;31mValueError\u001b[0m: The truth value of a Series is ambiguous. Use a.empty, a.bool(), a.item(), a.any() or a.all()."
     ]
    }
   ],
   "source": [
    "import pandas as pd\n",
    "from datetime import datetime\n",
    "\n",
    "# Crea un DataFrame de ejemplo\n",
    "data = {'fecha_nacimiento': ['1990-05-15', '1985-12-20', '1992-03-10']}\n",
    "df = pd.DataFrame(data)\n",
    "\n",
    "# Convierte la columna 'fecha_nacimiento' al tipo datetime\n",
    "df['fecha_nacimiento'] = pd.to_datetime(df['fecha_nacimiento'])\n",
    "\n",
    "# Calcula la edad\n",
    "fecha_actual = datetime.now()\n",
    "df['edad'] = fecha_actual.year - df['fecha_nacimiento'].dt.year - (\n",
    "    (fecha_actual.month, fecha_actual.day) < (df['fecha_nacimiento'].dt.month, df['fecha_nacimiento'].dt.day)\n",
    ").apply(int)\n",
    "\n",
    "# Muestra el DataFrame con la nueva columna de edad\n",
    "print(df)\n"
   ]
  },
  {
   "cell_type": "code",
   "execution_count": 2,
   "id": "d43b1110-834d-4c70-8030-0baffe0a788e",
   "metadata": {},
   "outputs": [
    {
     "name": "stdout",
     "output_type": "stream",
     "text": [
      "  fecha_nacimiento  edad\n",
      "0       1990-05-15    33\n",
      "1       1985-12-20    38\n",
      "2       1992-03-10    32\n"
     ]
    }
   ],
   "source": [
    "import pandas as pd\n",
    "from datetime import datetime\n",
    "\n",
    "# Crea un DataFrame de ejemplo\n",
    "data = {'fecha_nacimiento': ['1990-05-15', '1985-12-20', '1992-03-10']}\n",
    "df = pd.DataFrame(data)\n",
    "\n",
    "# Convierte la columna 'fecha_nacimiento' al tipo datetime\n",
    "df['fecha_nacimiento'] = pd.to_datetime(df['fecha_nacimiento'])\n",
    "\n",
    "# Calcula la edad\n",
    "fecha_actual = datetime.now()\n",
    "df['edad'] = fecha_actual.year - df['fecha_nacimiento'].dt.year - (\n",
    "    (fecha_actual.month < df['fecha_nacimiento'].dt.month) |\n",
    "    ((fecha_actual.month == df['fecha_nacimiento'].dt.month) & (fecha_actual.day < df['fecha_nacimiento'].dt.day))\n",
    ").apply(int)\n",
    "\n",
    "# Muestra el DataFrame con la nueva columna de edad\n",
    "print(df)\n"
   ]
  },
  {
   "cell_type": "code",
   "execution_count": 1,
   "id": "ab1363a2-a542-4902-94db-079b838ec352",
   "metadata": {},
   "outputs": [
    {
     "name": "stdout",
     "output_type": "stream",
     "text": [
      "nombre    Luis\n",
      "edad        35\n",
      "Name: 3, dtype: object\n"
     ]
    }
   ],
   "source": [
    "import pandas as pd\n",
    "\n",
    "# Crea un DataFrame de ejemplo\n",
    "data = {'nombre': ['Juan', 'María', 'Carlos', 'Luis'],\n",
    "        'edad': [25, 30, 22, 35]}\n",
    "df = pd.DataFrame(data)\n",
    "\n",
    "# Encuentra el índice de la persona de mayor edad\n",
    "indice_mayor_edad = df['edad'].idxmax()\n",
    "\n",
    "# Obtén la fila correspondiente a la persona de mayor edad\n",
    "persona_mayor_edad = df.loc[indice_mayor_edad]\n",
    "\n",
    "# Muestra la persona de mayor edad\n",
    "print(persona_mayor_edad)\n"
   ]
  },
  {
   "cell_type": "code",
   "execution_count": 2,
   "id": "c2bbc5cc-9bf6-4c93-a32f-90183c292d86",
   "metadata": {},
   "outputs": [
    {
     "name": "stdout",
     "output_type": "stream",
     "text": [
      "La persona de mayor edad es Luis con 35 años.\n"
     ]
    }
   ],
   "source": [
    "import pandas as pd\n",
    "\n",
    "# Crea un DataFrame de ejemplo\n",
    "data = {'nombre': ['Juan', 'María', 'Carlos', 'Luis'],\n",
    "        'edad': [25, 30, 22, 35]}\n",
    "df = pd.DataFrame(data)\n",
    "\n",
    "# Encuentra el índice de la persona de mayor edad\n",
    "indice_mayor_edad = df['edad'].idxmax()\n",
    "\n",
    "# Obtén la fila correspondiente a la persona de mayor edad\n",
    "persona_mayor_edad = df.loc[indice_mayor_edad]\n",
    "\n",
    "# Formatea la cadena de salida\n",
    "mensaje = f\"La persona de mayor edad es {persona_mayor_edad['nombre']} con {persona_mayor_edad['edad']} años.\"\n",
    "\n",
    "# Imprime el mensaje\n",
    "print(mensaje)\n"
   ]
  },
  {
   "cell_type": "code",
   "execution_count": 5,
   "id": "5cc6ac23-b4bc-48dc-a06f-ce3ba06debab",
   "metadata": {},
   "outputs": [
    {
     "name": "stdout",
     "output_type": "stream",
     "text": [
      "   ID_cliente nombre_cliente  num_boletas\n",
      "0           1           Juan            2\n",
      "1           2          María            1\n",
      "2           3         Carlos            3\n",
      "3           4           Luis            0\n"
     ]
    }
   ],
   "source": [
    "import pandas as pd\n",
    "\n",
    "# DataFrame de clientes\n",
    "data_clientes = {'ID_cliente': [1, 2, 3, 4],\n",
    "                 'nombre_cliente': ['Juan', 'María', 'Carlos', 'Luis']}\n",
    "df_clientes = pd.DataFrame(data_clientes)\n",
    "\n",
    "# DataFrame de boletas\n",
    "data_boletas = {'ID': [1, 1, 2, 3, 3, 3],\n",
    "                'numero_boleta': ['B001', 'B002', 'B003', 'B004', 'B005', 'B006']}\n",
    "df_boletas = pd.DataFrame(data_boletas)\n",
    "\n",
    "# Fusionar los DataFrames utilizando diferentes nombres de columnas clave\n",
    "df_fusionado = pd.merge(df_clientes, df_boletas, left_on='ID_cliente', right_on='ID', how='left')\n",
    "\n",
    "# Eliminar la columna 'ID' redundante\n",
    "df_fusionado.drop(columns=['ID'], inplace=True)\n",
    "\n",
    "# Contar el número de boletas por cliente\n",
    "conteo_boletas = df_fusionado.groupby(['ID_cliente', 'nombre_cliente'])['numero_boleta'].count().reset_index(name='num_boletas')\n",
    "\n",
    "# Mostrar el resultado\n",
    "print(conteo_boletas)\n"
   ]
  },
  {
   "cell_type": "code",
   "execution_count": null,
   "id": "402c1bb2-dd40-4ecc-a045-3319c86ed7b1",
   "metadata": {},
   "outputs": [],
   "source": []
  }
 ],
 "metadata": {
  "kernelspec": {
   "display_name": "Python 3 (ipykernel)",
   "language": "python",
   "name": "python3"
  },
  "language_info": {
   "codemirror_mode": {
    "name": "ipython",
    "version": 3
   },
   "file_extension": ".py",
   "mimetype": "text/x-python",
   "name": "python",
   "nbconvert_exporter": "python",
   "pygments_lexer": "ipython3",
   "version": "3.11.7"
  }
 },
 "nbformat": 4,
 "nbformat_minor": 5
}
