{
 "cells": [
  {
   "cell_type": "markdown",
   "metadata": {},
   "source": [
    "# Módulo 2 Actividad 5"
   ]
  },
  {
   "cell_type": "markdown",
   "metadata": {},
   "source": [
    "*1. Para nuestros datos de supermercado, crear una lista de los clientes, con el gasto hecho en compras de cada uno. Si no ha comprado, debe aparecer con un 0*"
   ]
  },
  {
   "cell_type": "code",
   "execution_count": null,
   "metadata": {},
   "outputs": [],
   "source": [
    "import pandas as pd\n",
    "\n",
    "detalle = pd.read_csv('detalle.csv')\n",
    "boletas = pd.read_csv('boletas.csv')\n",
    "clientes = pd.read_csv('clientes.csv', encoding='latin1')\n",
    "productos = pd.read_csv('productos.csv', encoding='latin1')\n",
    "\n",
    "df_detalle = pd.DataFrame(detalle)\n",
    "df_boletas = pd.DataFrame(boletas)\n",
    "df_clientes = pd.DataFrame(clientes)\n",
    "df_productos = pd.DataFrame(productos)\n",
    "\n"
   ]
  },
  {
   "cell_type": "code",
   "execution_count": null,
   "metadata": {},
   "outputs": [],
   "source": [
    "df_detalle_con_precios = pd.merge(df_detalle, df_productos, left_on='codigo_producto', right_on='codigo', how='left')\n",
    "df_detalle_con_precios.drop('codigo_producto', axis=1, inplace=True)\n",
    "df_detalle_con_precios['Total'] = df_detalle_con_precios['cantidad'] * df_detalle_con_precios['precio']\n",
    "\n",
    "total_boleta = df_detalle_con_precios.groupby('numero_boleta')['Total'].sum().reset_index()\n",
    "total_boleta.rename(columns={'Total': 'total_boleta'}, inplace=True)\n",
    "df_boletas_con_total = pd.merge(df_boletas, total_boleta, left_on='numero', right_on='numero_boleta', how='left')\n",
    "df_boletas_con_total.drop('numero_boleta', axis=1, inplace=True)\n",
    "\n",
    "total_por_cliente = df_boletas_con_total.groupby('rut_cliente')['total_boleta'].sum().reset_index()\n",
    "total_por_cliente.rename(columns={'total_boleta': 'Total por Cliente'}, inplace=True)\n",
    "df_clientes_con_total = pd.merge(df_clientes, total_por_cliente, left_on='rut', right_on='rut_cliente', how='left')\n",
    "df_clientes_con_total.drop(['rut', 'direccion', 'comuna', 'fecha_nacimiento', 'telefono', 'email', 'rut_cliente'], axis=1, inplace=True)\n",
    "df_clientes_con_total.fillna(0, inplace=True)\n",
    "\n",
    "df_clientes_con_total\n"
   ]
  },
  {
   "cell_type": "markdown",
   "metadata": {},
   "source": [
    "*2. Crea un DataFrame con datos de ventas por producto y región. Utiliza multi-índices para representar la información por año y trimestre. Luego, calcula la suma de ventas por trimestre para cada producto.*"
   ]
  },
  {
   "cell_type": "code",
   "execution_count": null,
   "metadata": {},
   "outputs": [],
   "source": [
    "df_productos.rename(columns={'nombre': 'producto'}, inplace=True)\n",
    "df_clientes['comuna'].fillna('Sin Informacion', inplace=True)\n",
    "\n",
    "df_boletas['fecha'] = pd.to_datetime(df_boletas['fecha'])\n",
    "\n",
    "df_boletas_x_detalle = pd.merge(df_boletas, df_detalle, left_on='numero', right_on='numero_boleta')\n",
    "df_boletas_x_detalle_x_producto = pd.merge(df_boletas_x_detalle, df_productos, left_on='codigo_producto', right_on='codigo')\n",
    "df_todos = pd.merge(df_boletas_x_detalle_x_producto, df_clientes,left_on='rut_cliente', right_on='rut')\n",
    "\n",
    "df_todos['anio'] = df_todos['fecha'].dt.year\n",
    "df_todos['trimestre'] = df_todos['fecha'].dt.quarter\n",
    "\n",
    "df_todos.drop(['numero', 'fecha', 'rut_cliente', 'numero_boleta', 'codigo_producto', 'codigo', 'precio', 'rut', 'nombre',\n",
    "               'direccion', 'fecha_nacimiento', 'telefono', 'email'], axis=1, inplace=True)\n",
    "\n",
    "ventas_por_producto = df_todos.groupby('producto')['cantidad'].sum().reset_index()\n",
    "\n",
    "\n",
    "productoXregion = df_todos.pivot_table(index=['producto', 'comuna'], columns=['anio', 'trimestre'], values='cantidad',\n",
    "                                          aggfunc='sum', fill_value=0)\n",
    "\n",
    "df_productoXregion = pd.DataFrame(productoXregion)\n",
    "\n",
    "ventas_totales = ventas_por_producto.set_index('producto')['cantidad']\n",
    "df_ventas_totales = pd.DataFrame(ventas_totales)\n",
    "\n",
    "df_productoXregion\n"
   ]
  },
  {
   "cell_type": "markdown",
   "metadata": {},
   "source": [
    "*3. Tienes dos DataFrames: uno con información de clientes (ID, nombre, dirección) y otro con sus pedidos (ID del cliente, producto, cantidad). Realiza una combinación de datos para obtener un DataFrame que muestre el nombre del cliente, su dirección y los productos pedidos por cada cliente.*"
   ]
  },
  {
   "cell_type": "code",
   "execution_count": null,
   "metadata": {},
   "outputs": [],
   "source": [
    "df_bbdd_clientes = df_clientes.drop(['comuna', 'fecha_nacimiento', 'telefono', 'email'], axis=1)\n",
    "\n",
    "df_detalle_con_producto = pd.merge(df_detalle, df_productos, left_on='codigo_producto', right_on='codigo', how='left')\n",
    "df_detalle_con_producto.drop(['codigo_producto', 'codigo', 'precio'], axis=1, inplace=True)\n",
    "df_detalle_con_cliente = pd.merge(df_detalle_con_producto, df_boletas, left_on='numero_boleta', right_on='numero', how='left')\n",
    "df_detalle_con_cliente.drop(['numero_boleta', 'numero', 'fecha'], axis=1, inplace=True)\n",
    "orden = ['rut_cliente', 'producto', 'cantidad']\n",
    "df_detalle_con_cliente = df_detalle_con_cliente[orden]\n",
    "\n",
    "\n",
    "df_resumen = pd.merge(df_bbdd_clientes, df_detalle_con_cliente, left_on='rut', right_on='rut_cliente', how='left')\n",
    "df_resumen.drop(['rut', 'rut_cliente'], axis=1, inplace=True)\n",
    "\n",
    "df_resumen['direccion'] = df_resumen['direccion'].fillna('Sin Información')\n",
    "df_resumen['producto'] = df_resumen['producto'].fillna('Sin Pedido')\n",
    "df_resumen['cantidad'] = df_resumen['cantidad'].fillna(0)\n",
    "\n",
    "df_resumen\n",
    "\n"
   ]
  },
  {
   "cell_type": "markdown",
   "metadata": {},
   "source": [
    "*4. Una Tabla de BINGO*"
   ]
  },
  {
   "cell_type": "markdown",
   "metadata": {},
   "source": [
    "Para una tarde de bingo se usarán tablas generadas con las siguientes reglas:"
   ]
  },
  {
   "cell_type": "markdown",
   "metadata": {},
   "source": [
    "- Los 5 números en cada columna son aleatorios ordenados no repetidos de acuerdo al rango asignado por columna.\n"
   ]
  },
  {
   "cell_type": "markdown",
   "metadata": {},
   "source": [
    "- La casilla central de la tabla tiene valor marcado cero o ‘libre’. "
   ]
  },
  {
   "cell_type": "markdown",
   "metadata": {},
   "source": [
    "Realice un programa para generar una tabla de bingo"
   ]
  },
  {
   "cell_type": "code",
   "execution_count": null,
   "metadata": {},
   "outputs": [],
   "source": [
    "import pandas as pd\n",
    "import numpy as np\n",
    "\n",
    "def bingo():\n",
    "    \n",
    "    columnas = {\n",
    "        'B': np.random.permutation(np.arange(1, 16))[:5],\n",
    "        'I': np.random.permutation(np.arange(16, 31))[:5],\n",
    "        'N': np.random.permutation(np.arange(31, 46))[:5],\n",
    "        'G': np.random.permutation(np.arange(46, 61))[:5],\n",
    "        'O': np.random.permutation(np.arange(61, 76))[:5]\n",
    "    }\n",
    "\n",
    "    # Crear DataFrame de pandas con la tabla de bingo\n",
    "    df_bingo = pd.DataFrame(columnas)\n",
    "\n",
    "    # Rellenar el espacio central (N3) con un espacio en blanco\n",
    "    df_bingo.loc[2, 'N'] = 0\n",
    "\n",
    "    return df_bingo\n",
    "\n",
    "# Generar y mostrar la tabla de bingo\n",
    "tabla_bingo = bingo()\n",
    "print(tabla_bingo.to_string(index=False))\n",
    "\n"
   ]
  }
 ],
 "metadata": {
  "kernelspec": {
   "display_name": "base",
   "language": "python",
   "name": "python3"
  },
  "language_info": {
   "codemirror_mode": {
    "name": "ipython",
    "version": 3
   },
   "file_extension": ".py",
   "mimetype": "text/x-python",
   "name": "python",
   "nbconvert_exporter": "python",
   "pygments_lexer": "ipython3",
   "version": "3.11.7"
  }
 },
 "nbformat": 4,
 "nbformat_minor": 2
}
