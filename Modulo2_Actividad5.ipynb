{
 "cells": [
  {
   "cell_type": "markdown",
   "metadata": {},
   "source": [
    "# Módulo 2 Actividad 5"
   ]
  },
  {
   "cell_type": "markdown",
   "metadata": {},
   "source": [
    "*1. Para nuestros datos de supermercado, crear una lista de los clientes, con el gasto hecho en compras de cada uno. Si no ha comprado, debe aparecer con un 0*"
   ]
  },
  {
   "cell_type": "code",
   "execution_count": 28,
   "metadata": {},
   "outputs": [],
   "source": [
    "import pandas as pd\n",
    "\n",
    "detalle = pd.read_csv('detalle.csv')\n",
    "boletas = pd.read_csv('boletas.csv')\n",
    "clientes = pd.read_csv('clientes.csv', encoding='latin1')\n",
    "productos = pd.read_csv('productos.csv', encoding='latin1')\n",
    "\n",
    "df_detalle = pd.DataFrame(detalle)\n",
    "df_boletas = pd.DataFrame(boletas)\n",
    "df_clientes = pd.DataFrame(clientes)\n",
    "df_productos = pd.DataFrame(productos)\n",
    "\n"
   ]
  },
  {
   "cell_type": "code",
   "execution_count": null,
   "metadata": {},
   "outputs": [],
   "source": [
    "df_detalle_con_precios = pd.merge(df_detalle, df_productos, left_on='codigo_producto', right_on='codigo', how='left')\n",
    "df_detalle_con_precios.drop('codigo_producto', axis=1, inplace=True)\n",
    "df_detalle_con_precios['Total'] = df_detalle_con_precios['cantidad'] * df_detalle_con_precios['precio']\n",
    "\n",
    "total_boleta = df_detalle_con_precios.groupby('numero_boleta')['Total'].sum().reset_index()\n",
    "total_boleta.rename(columns={'Total': 'total_boleta'}, inplace=True)\n",
    "df_boletas_con_total = pd.merge(df_boletas, total_boleta, left_on='numero', right_on='numero_boleta', how='left')\n",
    "df_boletas_con_total.drop('numero_boleta', axis=1, inplace=True)\n",
    "\n",
    "total_por_cliente = df_boletas_con_total.groupby('rut_cliente')['total_boleta'].sum().reset_index()\n",
    "total_por_cliente.rename(columns={'total_boleta': 'Total por Cliente'}, inplace=True)\n",
    "df_clientes_con_total = pd.merge(df_clientes, total_por_cliente, left_on='rut', right_on='rut_cliente', how='left')\n",
    "df_clientes_con_total.drop(['rut', 'direccion', 'comuna', 'fecha_nacimiento', 'telefono', 'email', 'rut_cliente'], axis=1, inplace=True)\n",
    "df_clientes_con_total.fillna(0, inplace=True)\n",
    "\n",
    "df_clientes_con_total\n"
   ]
  },
  {
   "cell_type": "markdown",
   "metadata": {},
   "source": [
    "*2. Crea un DataFrame con datos de ventas por producto y región. Utiliza multi-índices para representar la información por año y trimestre. Luego, calcula la suma de ventas por trimestre para cada producto.*"
   ]
  },
  {
   "cell_type": "code",
   "execution_count": 41,
   "metadata": {},
   "outputs": [
    {
     "name": "stdout",
     "output_type": "stream",
     "text": [
      "    cantidad          producto           comuna     telefono  \\\n",
      "0          3             Arroz         Santiago  912345678.0   \n",
      "1          6             Arroz         Santiago  912345678.0   \n",
      "2          6  Aceite de cocina         Santiago  912345678.0   \n",
      "3          2            Azúcar         Santiago  912345678.0   \n",
      "4          2            Harina         Santiago  912345678.0   \n",
      "5          1             Leche         Santiago  912345678.0   \n",
      "6          6             Arroz  Sin Informacion          NaN   \n",
      "7          2            Harina  Sin Informacion          NaN   \n",
      "8          9             Arroz  Sin Informacion  923478965.0   \n",
      "9          5  Aceite de cocina  Sin Informacion  923478965.0   \n",
      "10         2            Fideos  Sin Informacion  923478965.0   \n",
      "11         8             Yogur  Sin Informacion  923478965.0   \n",
      "12         3            Azúcar     Puerto Montt          NaN   \n",
      "13         1             Leche     Puerto Montt          NaN   \n",
      "14         7            Azúcar          Iquique  955678902.0   \n",
      "15         3            Harina          Iquique  955678902.0   \n",
      "16         3      Agua mineral          Iquique  955678902.0   \n",
      "17         1          Verduras          Iquique  955678902.0   \n",
      "18         5            Fideos       Concepción  987654321.0   \n",
      "19         1            Harina       Concepción  987654321.0   \n",
      "20         5            Fideos      Antofagasta  945678321.0   \n",
      "21         1            Harina      Antofagasta  945678321.0   \n",
      "22         4              Café      Antofagasta  945678321.0   \n",
      "23         4           Pescado      Antofagasta  945678321.0   \n",
      "24         4            Helado      Antofagasta  945678321.0   \n",
      "25         7          Galletas      Antofagasta  945678321.0   \n",
      "26         8              Café       Valparaíso  912345678.0   \n",
      "27         4       Mantequilla       Valparaíso  912345678.0   \n",
      "28        10          Verduras       Valparaíso  912345678.0   \n",
      "29        20           Pescado       Valparaíso  912345678.0   \n",
      "30         1              Café  Sin Informacion  912345672.0   \n",
      "31         6    Carne de pollo  Sin Informacion  912345672.0   \n",
      "32         7             Yogur  Sin Informacion  934567890.0   \n",
      "33         3      Agua mineral        La Serena          NaN   \n",
      "34         2    Frutas frescas  Sin Informacion  978901234.0   \n",
      "35         5          Verduras         Rancagua          NaN   \n",
      "36         9           Pescado         Rancagua          NaN   \n",
      "37         4            Helado           Temuco  923456789.0   \n",
      "38         2            Helado     Viña del Mar  967894512.0   \n",
      "39         5             Queso     Viña del Mar  967894512.0   \n",
      "\n",
      "                    email  anio  trimestre  \n",
      "0        juan@example.com  2023          4  \n",
      "1        juan@example.com  2023          4  \n",
      "2        juan@example.com  2023          4  \n",
      "3        juan@example.com  2023          4  \n",
      "4        juan@example.com  2023          4  \n",
      "5        juan@example.com  2023          4  \n",
      "6                     NaN  2023          4  \n",
      "7                     NaN  2023          4  \n",
      "8   valentina@example.com  2023          4  \n",
      "9   valentina@example.com  2023          4  \n",
      "10  valentina@example.com  2023          4  \n",
      "11  valentina@example.com  2023          4  \n",
      "12                    NaN  2023          4  \n",
      "13                    NaN  2023          4  \n",
      "14     martin@example.com  2023          4  \n",
      "15     martin@example.com  2023          4  \n",
      "16     martin@example.com  2023          4  \n",
      "17     martin@example.com  2023          4  \n",
      "18      maria@example.com  2023          4  \n",
      "19      maria@example.com  2023          4  \n",
      "20      laura@example.com  2023          4  \n",
      "21      laura@example.com  2023          4  \n",
      "22      laura@example.com  2023          4  \n",
      "23      laura@example.com  2023          4  \n",
      "24      laura@example.com  2023          4  \n",
      "25      laura@example.com  2023          4  \n",
      "26      pedro@example.com  2023          4  \n",
      "27      pedro@example.com  2023          4  \n",
      "28      pedro@example.com  2023          4  \n",
      "29      pedro@example.com  2023          4  \n",
      "30      sofia@example.com  2023          4  \n",
      "31      sofia@example.com  2023          4  \n",
      "32      carla@example.com  2023          4  \n",
      "33      diego@example.com  2023          4  \n",
      "34        ana@example.com  2023          4  \n",
      "35      luisa@example.com  2023          4  \n",
      "36      luisa@example.com  2023          4  \n",
      "37                    NaN  2023          4  \n",
      "38      mateo@example.com  2023          4  \n",
      "39      mateo@example.com  2023          4  \n"
     ]
    }
   ],
   "source": [
    "df_productos.rename(columns={'nombre': 'producto'}, inplace=True)\n",
    "df_clientes['comuna'].fillna('Sin Informacion', inplace=True)\n",
    "\n",
    "df_boletas['fecha'] = pd.to_datetime(df_boletas['fecha'])\n",
    "\n",
    "df_boletas_x_detalle = pd.merge(df_boletas, df_detalle, left_on='numero', right_on='numero_boleta')\n",
    "df_boletas_x_detalle_x_producto = pd.merge(df_boletas_x_detalle, df_productos, left_on='codigo_producto', right_on='codigo')\n",
    "df_todos = pd.merge(df_boletas_x_detalle_x_producto, df_clientes,left_on='rut_cliente', right_on='rut')\n",
    "\n",
    "df_todos['anio'] = df_todos['fecha'].dt.year\n",
    "df_todos['trimestre'] = df_todos['fecha'].dt.quarter\n",
    "\n",
    "df_todos.drop(['numero', 'fecha', 'rut_cliente', 'numero_boleta', 'codigo_producto', 'codigo', 'precio', 'rut', 'nombre',\n",
    "               'direccion', 'fecha_nacimiento'], axis=1, inplace=True) # Aca está la línea\n",
    "\n",
    "ventas_por_producto = df_todos.groupby('producto')['cantidad'].sum().reset_index()\n",
    "ventas_por_producto.rename(columns={'cantidad': 'Total Ventas por Producto'}, inplace=True)\n",
    "\n",
    "#df_unido = pd.merge(df_unido, total_ventas_por_producto, on='producto')\n",
    "\n",
    "#print(ventas_por_producto)\n",
    "print(df_todos)\n"
   ]
  },
  {
   "cell_type": "code",
   "execution_count": null,
   "metadata": {},
   "outputs": [],
   "source": [
    "\n",
    "\n",
    "\n",
    "ventas_por_trimestre = df_unido.pivot_table(index=['producto', 'comuna'], columns=['year', 'quarter'], values='cantidad',\n",
    "                                            aggfunc='sum', fill_value=0)\n",
    "\n",
    "df_ventas_por_trimestre = pd.DataFrame(ventas_por_trimestre)\n",
    "\n",
    "# Agregar la columna 'Total Ventas' a la tabla pivote\n",
    "ventas_por_trimestre['Total Ventas por Producto'] = total_ventas_por_producto.set_index('producto')['Total Ventas por Producto']"
   ]
  }
 ],
 "metadata": {
  "kernelspec": {
   "display_name": "base",
   "language": "python",
   "name": "python3"
  },
  "language_info": {
   "codemirror_mode": {
    "name": "ipython",
    "version": 3
   },
   "file_extension": ".py",
   "mimetype": "text/x-python",
   "name": "python",
   "nbconvert_exporter": "python",
   "pygments_lexer": "ipython3",
   "version": "3.11.7"
  }
 },
 "nbformat": 4,
 "nbformat_minor": 2
}
