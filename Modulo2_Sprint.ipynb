{
 "cells": [
  {
   "cell_type": "markdown",
   "metadata": {},
   "source": [
    "# Módulo 2 Sprint"
   ]
  },
  {
   "cell_type": "markdown",
   "metadata": {},
   "source": [
    "**Vamos a crear un sistema de facturación y bodega simplificado, el cual tendra diferentes opciones:**"
   ]
  },
  {
   "cell_type": "markdown",
   "metadata": {},
   "source": [
    "*a) **Ingresar producto:** debe ingresarse el nombre y el precio del producto.  Tendrá un sub menú: nuevo producto, guardar archivo o volver.*"
   ]
  },
  {
   "cell_type": "code",
   "execution_count": 1,
   "metadata": {},
   "outputs": [
    {
     "name": "stdout",
     "output_type": "stream",
     "text": [
      "__________________________________________________\n",
      "El producto 'Manzana' ya se encuentra en la lista.\n",
      "__________________________________________________\n",
      "=============== Lista de Productos ===============\n",
      "__________________________________________________\n",
      "              nombre   precio\n",
      "0              Arroz   1500.0\n",
      "1             Fideos   1200.0\n",
      "2   Aceite de cocina  18000.0\n",
      "3             Harina   2000.0\n",
      "4              Leche   3000.0\n",
      "5             Azúcar   2500.0\n",
      "6               Café   5000.0\n",
      "7                Pan   1500.0\n",
      "8           Galletas   3500.0\n",
      "9        Mantequilla   2800.0\n",
      "10             Queso   6000.0\n",
      "11             Yogur   2000.0\n",
      "12      Agua mineral   1200.0\n",
      "13             Jugos   4000.0\n",
      "14    Frutas frescas   7000.0\n",
      "15          Verduras   5500.0\n",
      "16    Carne de pollo   4800.0\n",
      "17      Carne de res  10000.0\n",
      "18           Pescado   9000.0\n",
      "19            Helado   2500.0\n",
      "20           Manzana      0.5\n",
      "21           Plátano      0.3\n",
      "22           Naranja      0.4\n"
     ]
    }
   ],
   "source": [
    "import pandas as pd\n",
    "\n",
    "\n",
    "mix_inicial = {   \n",
    "    'nombre': ['Arroz', 'Fideos', 'Aceite de cocina', 'Harina', 'Leche', 'Azúcar', 'Café', 'Pan', 'Galletas', 'Mantequilla',\n",
    "               'Queso', 'Yogur', 'Agua mineral', 'Jugos', 'Frutas frescas', 'Verduras', 'Carne de pollo', 'Carne de res',\n",
    "               'Pescado', 'Helado'],\n",
    "    'precio': [1500, 1200, 18000, 2000, 3000, 2500, 5000, 1500, 3500, 2800, 6000, 2000, 1200, 4000, 7000, 5500, 4800, 10000, 9000, 2500]\n",
    "}\n",
    "\n",
    "# Precargar el diccionario productos_master con los datos proporcionados\n",
    "productos_master = {'producto': [{'nombre': nombre, 'precio': precio} for nombre, precio in zip(mix_inicial['nombre'], mix_inicial['precio'])]}\n",
    "\n",
    "def agregar_producto(productos_master, nombre_producto, precio_producto):\n",
    "    # Verificar si la clave 'producto' ya existe en el diccionario\n",
    "    if 'producto' in productos_master:\n",
    "        # Verificar si el nombre del producto ya está en la lista\n",
    "        if nombre_producto in [producto['nombre'] for producto in productos_master['producto']]:\n",
    "            print('_' * 50)\n",
    "            print(f\"El producto '{nombre_producto}' ya se encuentra en la lista.\")\n",
    "            print('_' * 50)\n",
    "        else:\n",
    "            # Agregar el nombre del producto y su precio a la lista existente\n",
    "            productos_master['producto'].append({'nombre': nombre_producto, 'precio': precio_producto})\n",
    "    else:\n",
    "        # Crear una nueva lista con el nombre del producto y su precio\n",
    "        productos_master['producto'] = [{'nombre': nombre_producto, 'precio': precio_producto}]\n",
    "\n",
    "def mostrar_productos_en_df(productos_master):\n",
    "    if 'producto' in productos_master:\n",
    "        df = pd.DataFrame(productos_master['producto'])\n",
    "        print(' Lista de Productos '.center(50, '='))\n",
    "        print('_' * 50)\n",
    "        print(df)\n",
    "    else:\n",
    "        print(\"El diccionario no contiene información de productos.\")\n",
    "\n",
    "# Ejemplo de uso:\n",
    "agregar_producto(productos_master, 'Manzana', 0.5)\n",
    "agregar_producto(productos_master, 'Plátano', 0.3)\n",
    "agregar_producto(productos_master, 'Naranja', 0.4)\n",
    "agregar_producto(productos_master, 'Manzana', 0.5)  # Este producto ya está en la lista\n",
    "\n",
    "mostrar_productos_en_df(productos_master)\n"
   ]
  },
  {
   "cell_type": "markdown",
   "metadata": {},
   "source": [
    "*b) Ingresar factura: debe ingresarse el nombre del cliente, luego deberá generar un submenú: ingresar producto, guardar y salir. Los productos se ingresan con nombre y precio. La factura además debe guardar la fecha y hora actual de la venta.*"
   ]
  },
  {
   "cell_type": "code",
   "execution_count": 2,
   "metadata": {},
   "outputs": [],
   "source": [
    "import pandas as pd\n",
    "from datetime import datetime\n",
    "\n",
    "\n",
    "g_detalle_facturas = []\n"
   ]
  },
  {
   "cell_type": "code",
   "execution_count": 3,
   "metadata": {},
   "outputs": [],
   "source": [
    "def ingresar_factura(nombre, productos_lista, precio_lista):\n",
    "    global g_codigo_factura\n",
    "    global g_monto_total_vendido\n",
    "    global g_detalle_facturas\n",
    "\n",
    "    fecha = datetime.now()\n",
    "    dia_factura = fecha.date()\n",
    "    hora_factura = fecha.time().strftime('%H:%M')\n",
    "\n",
    "    codigo_factura = str(fecha)\n",
    "    codigo_factura = codigo_factura.replace('-',  '').replace(':', '').replace('.', '').replace(' ', '')\n",
    "    codigo_factura_lista = [codigo_factura] * len(productos_lista)\n",
    "    nombre_lista = [nombre] * len(productos_lista)\n",
    "    dia = [dia_factura] * len(productos_lista)\n",
    "    hora = [hora_factura] * len(productos_lista)\n",
    "\n",
    "    df_factura = pd.DataFrame({'Codigo Factura' : codigo_factura_lista, 'Nombre Cliente': nombre_lista, 'Productos': productos_lista, '$': precio_lista, 'Fecha': dia, 'Hora': hora})\n",
    "\n",
    "    factura_productos_por_clientes = df_factura.groupby(['Nombre Cliente', 'Productos', 'Fecha', 'Hora'])['$'].sum().reset_index()\n",
    "\n",
    "    df_factura_productos_por_cliente = factura_productos_por_clientes.pivot_table(index=['Nombre Cliente', 'Productos'], columns=['Fecha', 'Hora'], values='$',\n",
    "                                                                                     aggfunc='sum', fill_value=0)\n",
    "\n",
    "    # Agregar el DataFrame de detalle al diccionario de detalle de facturas\n",
    "    #g_detalle_facturas[codigo_factura] = df_factura\n",
    "\n",
    "    g_detalle_facturas.append(df_factura)\n",
    "\n",
    "    print(df_factura_productos_por_cliente)\n",
    "    #print(codigo_factura)\n",
    "    #print(factura_monto_total)"
   ]
  },
  {
   "cell_type": "code",
   "execution_count": 4,
   "metadata": {},
   "outputs": [
    {
     "name": "stdout",
     "output_type": "stream",
     "text": [
      "Fecha                    2024-03-31\n",
      "Hora                          12:50\n",
      "Nombre Cliente Productos           \n",
      "José Ignacio   Condones          40\n",
      "               Manzana          350\n",
      "               Plátano          520\n"
     ]
    }
   ],
   "source": [
    "nombre_prueba = 'José Ignacio'\n",
    "productos_prueba = ['Manzana', 'Plátano', 'Condones']\n",
    "precios_prueba = [350, 520, 40]\n",
    "\n",
    "ingresar_factura(nombre_prueba, productos_prueba, precios_prueba)\n"
   ]
  },
  {
   "cell_type": "code",
   "execution_count": 5,
   "metadata": {},
   "outputs": [
    {
     "name": "stdout",
     "output_type": "stream",
     "text": [
      "Fecha                    2024-03-31\n",
      "Hora                          12:50\n",
      "Nombre Cliente Productos           \n",
      "Deyanira Garay Chicles          250\n",
      "               Cigarros        3500\n"
     ]
    }
   ],
   "source": [
    "nombreprueba1 = 'Deyanira Garay'\n",
    "productoprueba1 = ['Cigarros', 'Chicles']\n",
    "precioprueba1 = [3500, 250]\n",
    "\n",
    "\n",
    "ingresar_factura(nombreprueba1, productoprueba1, precioprueba1)"
   ]
  },
  {
   "cell_type": "code",
   "execution_count": 7,
   "metadata": {},
   "outputs": [
    {
     "name": "stdout",
     "output_type": "stream",
     "text": [
      "   Cantidad Ventas  $ Total Vendido\n",
      "0                2             4660\n"
     ]
    }
   ],
   "source": [
    "df_ventas_totales = df.groupby('Codigo Factura')['$'].sum().reset_index()\n",
    "\n",
    "total_filas = len(df_ventas_totales)\n",
    "total_venta = df_ventas_totales['$'].sum()\n",
    "\n",
    "resumen_df = pd.DataFrame({\n",
    "    'Cantidad Ventas': [total_filas],\n",
    "    '$ Total Vendido': [total_venta]\n",
    "})\n",
    "\n",
    "print(resumen_df)\n"
   ]
  },
  {
   "cell_type": "code",
   "execution_count": 8,
   "metadata": {},
   "outputs": [
    {
     "data": {
      "text/html": [
       "<div>\n",
       "<style scoped>\n",
       "    .dataframe tbody tr th:only-of-type {\n",
       "        vertical-align: middle;\n",
       "    }\n",
       "\n",
       "    .dataframe tbody tr th {\n",
       "        vertical-align: top;\n",
       "    }\n",
       "\n",
       "    .dataframe thead th {\n",
       "        text-align: right;\n",
       "    }\n",
       "</style>\n",
       "<table border=\"1\" class=\"dataframe\">\n",
       "  <thead>\n",
       "    <tr style=\"text-align: right;\">\n",
       "      <th></th>\n",
       "      <th>Codigo Factura</th>\n",
       "      <th>Nombre Cliente</th>\n",
       "      <th>$</th>\n",
       "    </tr>\n",
       "  </thead>\n",
       "  <tbody>\n",
       "    <tr>\n",
       "      <th>1</th>\n",
       "      <td>20240331125027888585</td>\n",
       "      <td>Deyanira Garay</td>\n",
       "      <td>3750</td>\n",
       "    </tr>\n",
       "    <tr>\n",
       "      <th>0</th>\n",
       "      <td>20240331125017601248</td>\n",
       "      <td>José Ignacio</td>\n",
       "      <td>910</td>\n",
       "    </tr>\n",
       "  </tbody>\n",
       "</table>\n",
       "</div>"
      ],
      "text/plain": [
       "         Codigo Factura  Nombre Cliente     $\n",
       "1  20240331125027888585  Deyanira Garay  3750\n",
       "0  20240331125017601248    José Ignacio   910"
      ]
     },
     "execution_count": 8,
     "metadata": {},
     "output_type": "execute_result"
    }
   ],
   "source": [
    "df_ventas_por_usuario = df.groupby(['Codigo Factura', 'Nombre Cliente'])['$'].sum().reset_index()\n",
    "df_ventas_por_usuario = df_ventas_por_usuario.sort_values(by='Nombre Cliente')\n",
    "df_ventas_por_usuario\n"
   ]
  },
  {
   "cell_type": "code",
   "execution_count": 9,
   "metadata": {},
   "outputs": [
    {
     "data": {
      "text/html": [
       "<div>\n",
       "<style scoped>\n",
       "    .dataframe tbody tr th:only-of-type {\n",
       "        vertical-align: middle;\n",
       "    }\n",
       "\n",
       "    .dataframe tbody tr th {\n",
       "        vertical-align: top;\n",
       "    }\n",
       "\n",
       "    .dataframe thead th {\n",
       "        text-align: right;\n",
       "    }\n",
       "</style>\n",
       "<table border=\"1\" class=\"dataframe\">\n",
       "  <thead>\n",
       "    <tr style=\"text-align: right;\">\n",
       "      <th></th>\n",
       "      <th>Productos</th>\n",
       "      <th>TotalVendido</th>\n",
       "      <th>CantidadVendida</th>\n",
       "    </tr>\n",
       "  </thead>\n",
       "  <tbody>\n",
       "    <tr>\n",
       "      <th>0</th>\n",
       "      <td>Chicles</td>\n",
       "      <td>250</td>\n",
       "      <td>1</td>\n",
       "    </tr>\n",
       "    <tr>\n",
       "      <th>1</th>\n",
       "      <td>Cigarros</td>\n",
       "      <td>3500</td>\n",
       "      <td>1</td>\n",
       "    </tr>\n",
       "    <tr>\n",
       "      <th>2</th>\n",
       "      <td>Condones</td>\n",
       "      <td>40</td>\n",
       "      <td>1</td>\n",
       "    </tr>\n",
       "    <tr>\n",
       "      <th>3</th>\n",
       "      <td>Manzana</td>\n",
       "      <td>350</td>\n",
       "      <td>1</td>\n",
       "    </tr>\n",
       "    <tr>\n",
       "      <th>4</th>\n",
       "      <td>Plátano</td>\n",
       "      <td>520</td>\n",
       "      <td>1</td>\n",
       "    </tr>\n",
       "  </tbody>\n",
       "</table>\n",
       "</div>"
      ],
      "text/plain": [
       "  Productos  TotalVendido  CantidadVendida\n",
       "0   Chicles           250                1\n",
       "1  Cigarros          3500                1\n",
       "2  Condones            40                1\n",
       "3   Manzana           350                1\n",
       "4   Plátano           520                1"
      ]
     },
     "execution_count": 9,
     "metadata": {},
     "output_type": "execute_result"
    }
   ],
   "source": [
    "df_ventas_por_producto = df.groupby('Productos')['$'].agg(TotalVendido='sum', CantidadVendida='count').reset_index()\n",
    "\n",
    "df_ventas_por_producto"
   ]
  },
  {
   "cell_type": "code",
   "execution_count": 10,
   "metadata": {},
   "outputs": [
    {
     "data": {
      "text/html": [
       "<div>\n",
       "<style scoped>\n",
       "    .dataframe tbody tr th:only-of-type {\n",
       "        vertical-align: middle;\n",
       "    }\n",
       "\n",
       "    .dataframe tbody tr th {\n",
       "        vertical-align: top;\n",
       "    }\n",
       "\n",
       "    .dataframe thead th {\n",
       "        text-align: right;\n",
       "    }\n",
       "</style>\n",
       "<table border=\"1\" class=\"dataframe\">\n",
       "  <thead>\n",
       "    <tr style=\"text-align: right;\">\n",
       "      <th></th>\n",
       "      <th>Fecha</th>\n",
       "      <th>Total</th>\n",
       "      <th>Cantidad</th>\n",
       "    </tr>\n",
       "  </thead>\n",
       "  <tbody>\n",
       "    <tr>\n",
       "      <th>0</th>\n",
       "      <td>2024-03-31</td>\n",
       "      <td>4660</td>\n",
       "      <td>2</td>\n",
       "    </tr>\n",
       "  </tbody>\n",
       "</table>\n",
       "</div>"
      ],
      "text/plain": [
       "        Fecha  Total  Cantidad\n",
       "0  2024-03-31   4660         2"
      ]
     },
     "execution_count": 10,
     "metadata": {},
     "output_type": "execute_result"
    }
   ],
   "source": [
    "df_ventas_diarias = df.groupby(['Codigo Factura', 'Fecha', 'Nombre Cliente'])['$'].sum().reset_index()\n",
    "df_ventas_diarias = df_ventas_diarias.groupby('Fecha')['$'].agg(Total='sum', Cantidad='count').reset_index()\n",
    "df_ventas_diarias\n"
   ]
  },
  {
   "cell_type": "code",
   "execution_count": 6,
   "metadata": {},
   "outputs": [
    {
     "name": "stdout",
     "output_type": "stream",
     "text": [
      "         Codigo Factura  Nombre Cliente Productos     $       Fecha   Hora\n",
      "0  20240331125017601248    José Ignacio   Manzana   350  2024-03-31  12:50\n",
      "1  20240331125017601248    José Ignacio   Plátano   520  2024-03-31  12:50\n",
      "2  20240331125017601248    José Ignacio  Condones    40  2024-03-31  12:50\n",
      "3  20240331125027888585  Deyanira Garay  Cigarros  3500  2024-03-31  12:50\n",
      "4  20240331125027888585  Deyanira Garay   Chicles   250  2024-03-31  12:50\n"
     ]
    }
   ],
   "source": [
    "# Convertir los datos en un DataFrame\n",
    "df = pd.concat([pd.DataFrame(item) for item in g_detalle_facturas], ignore_index=True)\n",
    "\n",
    "# Mostrar el DataFrame\n",
    "print(df)"
   ]
  },
  {
   "cell_type": "code",
   "execution_count": 11,
   "metadata": {},
   "outputs": [
    {
     "name": "stdout",
     "output_type": "stream",
     "text": [
      "[         Codigo Factura Nombre Cliente Productos    $       Fecha   Hora\n",
      "0  20240331125017601248   José Ignacio   Manzana  350  2024-03-31  12:50\n",
      "1  20240331125017601248   José Ignacio   Plátano  520  2024-03-31  12:50\n",
      "2  20240331125017601248   José Ignacio  Condones   40  2024-03-31  12:50,          Codigo Factura  Nombre Cliente Productos     $       Fecha   Hora\n",
      "0  20240331125027888585  Deyanira Garay  Cigarros  3500  2024-03-31  12:50\n",
      "1  20240331125027888585  Deyanira Garay   Chicles   250  2024-03-31  12:50]\n"
     ]
    }
   ],
   "source": [
    "print(g_detalle_facturas)"
   ]
  },
  {
   "cell_type": "code",
   "execution_count": 13,
   "metadata": {},
   "outputs": [
    {
     "data": {
      "text/html": [
       "<div>\n",
       "<style scoped>\n",
       "    .dataframe tbody tr th:only-of-type {\n",
       "        vertical-align: middle;\n",
       "    }\n",
       "\n",
       "    .dataframe tbody tr th {\n",
       "        vertical-align: top;\n",
       "    }\n",
       "\n",
       "    .dataframe thead th {\n",
       "        text-align: right;\n",
       "    }\n",
       "</style>\n",
       "<table border=\"1\" class=\"dataframe\">\n",
       "  <thead>\n",
       "    <tr style=\"text-align: right;\">\n",
       "      <th></th>\n",
       "      <th>Codigo Factura</th>\n",
       "      <th>Nombre Cliente</th>\n",
       "      <th>Productos</th>\n",
       "      <th>$</th>\n",
       "      <th>Fecha</th>\n",
       "      <th>Hora</th>\n",
       "    </tr>\n",
       "  </thead>\n",
       "  <tbody>\n",
       "    <tr>\n",
       "      <th>0</th>\n",
       "      <td>20240331125027888585</td>\n",
       "      <td>Deyanira Garay</td>\n",
       "      <td>Cigarros</td>\n",
       "      <td>3500</td>\n",
       "      <td>2024-03-31</td>\n",
       "      <td>12:50</td>\n",
       "    </tr>\n",
       "    <tr>\n",
       "      <th>1</th>\n",
       "      <td>20240331125027888585</td>\n",
       "      <td>Deyanira Garay</td>\n",
       "      <td>Chicles</td>\n",
       "      <td>250</td>\n",
       "      <td>2024-03-31</td>\n",
       "      <td>12:50</td>\n",
       "    </tr>\n",
       "  </tbody>\n",
       "</table>\n",
       "</div>"
      ],
      "text/plain": [
       "         Codigo Factura  Nombre Cliente Productos     $       Fecha   Hora\n",
       "0  20240331125027888585  Deyanira Garay  Cigarros  3500  2024-03-31  12:50\n",
       "1  20240331125027888585  Deyanira Garay   Chicles   250  2024-03-31  12:50"
      ]
     },
     "execution_count": 13,
     "metadata": {},
     "output_type": "execute_result"
    }
   ],
   "source": [
    "g_detalle_facturas[1]"
   ]
  },
  {
   "cell_type": "code",
   "execution_count": null,
   "metadata": {},
   "outputs": [],
   "source": []
  }
 ],
 "metadata": {
  "kernelspec": {
   "display_name": "base",
   "language": "python",
   "name": "python3"
  },
  "language_info": {
   "codemirror_mode": {
    "name": "ipython",
    "version": 3
   },
   "file_extension": ".py",
   "mimetype": "text/x-python",
   "name": "python",
   "nbconvert_exporter": "python",
   "pygments_lexer": "ipython3",
   "version": "3.11.7"
  }
 },
 "nbformat": 4,
 "nbformat_minor": 2
}
