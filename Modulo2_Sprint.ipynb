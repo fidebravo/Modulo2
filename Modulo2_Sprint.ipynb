{
 "cells": [
  {
   "cell_type": "markdown",
   "metadata": {},
   "source": [
    "# Módulo 2 Sprint"
   ]
  },
  {
   "cell_type": "markdown",
   "metadata": {},
   "source": [
    "**Vamos a crear un sistema de facturación y bodega simplificado, el cual tendra diferentes opciones:**"
   ]
  },
  {
   "cell_type": "markdown",
   "metadata": {},
   "source": [
    "*a) **Ingresar producto:** debe ingresarse el nombre y el precio del producto.  Tendrá un sub menú: nuevo producto, guardar archivo o volver.*"
   ]
  },
  {
   "cell_type": "code",
   "execution_count": 2,
   "metadata": {},
   "outputs": [
    {
     "name": "stdout",
     "output_type": "stream",
     "text": [
      "__________________________________________________\n",
      "El producto 'Manzana' ya se encuentra en la lista.\n",
      "__________________________________________________\n",
      "=============== Lista de Productos ===============\n",
      "__________________________________________________\n",
      "              nombre   precio\n",
      "0              Arroz   1500.0\n",
      "1             Fideos   1200.0\n",
      "2   Aceite de cocina  18000.0\n",
      "3             Harina   2000.0\n",
      "4              Leche   3000.0\n",
      "5             Azúcar   2500.0\n",
      "6               Café   5000.0\n",
      "7                Pan   1500.0\n",
      "8           Galletas   3500.0\n",
      "9        Mantequilla   2800.0\n",
      "10             Queso   6000.0\n",
      "11             Yogur   2000.0\n",
      "12      Agua mineral   1200.0\n",
      "13             Jugos   4000.0\n",
      "14    Frutas frescas   7000.0\n",
      "15          Verduras   5500.0\n",
      "16    Carne de pollo   4800.0\n",
      "17      Carne de res  10000.0\n",
      "18           Pescado   9000.0\n",
      "19            Helado   2500.0\n",
      "20           Manzana      0.5\n",
      "21           Plátano      0.3\n",
      "22           Naranja      0.4\n"
     ]
    }
   ],
   "source": [
    "import pandas as pd\n",
    "\n",
    "\n",
    "mix_inicial = {   \n",
    "    'nombre': ['Arroz', 'Fideos', 'Aceite de cocina', 'Harina', 'Leche', 'Azúcar', 'Café', 'Pan', 'Galletas', 'Mantequilla',\n",
    "               'Queso', 'Yogur', 'Agua mineral', 'Jugos', 'Frutas frescas', 'Verduras', 'Carne de pollo', 'Carne de res',\n",
    "               'Pescado', 'Helado'],\n",
    "    'precio': [1500, 1200, 18000, 2000, 3000, 2500, 5000, 1500, 3500, 2800, 6000, 2000, 1200, 4000, 7000, 5500, 4800, 10000, 9000, 2500]\n",
    "}\n",
    "\n",
    "# Precargar el diccionario productos_master con los datos proporcionados\n",
    "productos_master = {'producto': [{'nombre': nombre, 'precio': precio} for nombre, precio in zip(mix_inicial['nombre'], mix_inicial['precio'])]}\n",
    "\n",
    "def agregar_producto(productos_master, nombre_producto, precio_producto):\n",
    "    # Verificar si la clave 'producto' ya existe en el diccionario\n",
    "    if 'producto' in productos_master:\n",
    "        # Verificar si el nombre del producto ya está en la lista\n",
    "        if nombre_producto in [producto['nombre'] for producto in productos_master['producto']]:\n",
    "            print('_' * 50)\n",
    "            print(f\"El producto '{nombre_producto}' ya se encuentra en la lista.\")\n",
    "            print('_' * 50)\n",
    "        else:\n",
    "            # Agregar el nombre del producto y su precio a la lista existente\n",
    "            productos_master['producto'].append({'nombre': nombre_producto, 'precio': precio_producto})\n",
    "    else:\n",
    "        # Crear una nueva lista con el nombre del producto y su precio\n",
    "        productos_master['producto'] = [{'nombre': nombre_producto, 'precio': precio_producto}]\n",
    "\n",
    "def mostrar_productos_en_df(productos_master):\n",
    "    if 'producto' in productos_master:\n",
    "        df = pd.DataFrame(productos_master['producto'])\n",
    "        print(' Lista de Productos '.center(50, '='))\n",
    "        print('_' * 50)\n",
    "        print(df)\n",
    "    else:\n",
    "        print(\"El diccionario no contiene información de productos.\")\n",
    "\n",
    "# Ejemplo de uso:\n",
    "agregar_producto(productos_master, 'Manzana', 0.5)\n",
    "agregar_producto(productos_master, 'Plátano', 0.3)\n",
    "agregar_producto(productos_master, 'Naranja', 0.4)\n",
    "agregar_producto(productos_master, 'Manzana', 0.5)  # Este producto ya está en la lista\n",
    "\n",
    "mostrar_productos_en_df(productos_master)\n"
   ]
  },
  {
   "cell_type": "markdown",
   "metadata": {},
   "source": [
    "*b) Ingresar factura: debe ingresarse el nombre del cliente, luego deberá generar un submenú: ingresar producto, guardar y salir. Los productos se ingresan con nombre y precio. La factura además debe guardar la fecha y hora actual de la venta.*"
   ]
  },
  {
   "cell_type": "code",
   "execution_count": 3,
   "metadata": {},
   "outputs": [],
   "source": [
    "import pandas as pd\n",
    "from datetime import datetime\n",
    "\n",
    "g_codigo_factura = []\n",
    "g_monto_total_vendido = []\n",
    "g_detalle_facturas = {}"
   ]
  },
  {
   "cell_type": "code",
   "execution_count": 4,
   "metadata": {},
   "outputs": [
    {
     "name": "stdout",
     "output_type": "stream",
     "text": [
      "Fecha                    2024-03-30\n",
      "Hora                          16:20\n",
      "Nombre Cliente Productos           \n",
      "José Ignacio   Condones          40\n",
      "               Manzana          350\n",
      "               Plátano          520\n",
      "910\n"
     ]
    }
   ],
   "source": [
    "def ingresar_factura(nombre_lista, productos_lista, precio_lista):\n",
    "    global g_codigo_factura\n",
    "    global g_monto_total_vendido\n",
    "    global g_detalle_facturas\n",
    "\n",
    "    fecha = datetime.now()\n",
    "    dia_factura = fecha.date()\n",
    "    hora_factura = fecha.time().strftime('%H:%M')\n",
    "\n",
    "    codigo_factura = str(fecha)\n",
    "    codigo_factura = codigo_factura.replace('-',  '').replace(':', '').replace('.', '').replace(' ', '')\n",
    "    \n",
    "    dia = [dia_factura] * len(nombre_lista)\n",
    "    hora = [hora_factura] * len(nombre_lista)\n",
    "\n",
    "    df_factura = pd.DataFrame({'Nombre Cliente': nombre_lista, 'Productos': productos_lista, '$': precio_lista, 'Fecha': dia, 'Hora': hora})\n",
    "\n",
    "    factura_monto_total = df_factura['$'].sum()\n",
    "\n",
    "    g_codigo_factura.append(codigo_factura)\n",
    "    g_monto_total_vendido.append(factura_monto_total)\n",
    "\n",
    "    factura_productos_por_clientes = df_factura.groupby(['Nombre Cliente', 'Productos', 'Fecha', 'Hora'])['$'].sum().reset_index()\n",
    "\n",
    "    df_factura_productos_por_cliente = factura_productos_por_clientes.pivot_table(index=['Nombre Cliente', 'Productos'], columns=['Fecha', 'Hora'], values='$',\n",
    "                                                                                     aggfunc='sum', fill_value=0)\n",
    "\n",
    "    # Agregar el DataFrame de detalle al diccionario de detalle de facturas\n",
    "    g_detalle_facturas[codigo_factura] = df_factura_productos_por_cliente\n",
    "\n",
    "    print(df_factura_productos_por_cliente)\n",
    "    #print(codigo_factura)\n",
    "    print(factura_monto_total)\n",
    "\n",
    "nombre_prueba = ['José Ignacio', 'José Ignacio', 'José Ignacio']\n",
    "productos_prueba = ['Manzana', 'Plátano', 'Condones']\n",
    "precios_prueba = [350, 520, 40]\n",
    "\n",
    "ingresar_factura(nombre_prueba, productos_prueba, precios_prueba)"
   ]
  },
  {
   "cell_type": "code",
   "execution_count": 7,
   "metadata": {},
   "outputs": [
    {
     "name": "stdout",
     "output_type": "stream",
     "text": [
      "Fecha                    2024-03-30\n",
      "Hora                          16:21\n",
      "Nombre Cliente Productos           \n",
      "Deyanira Garay Chicles          250\n",
      "               Cigarros        3500\n",
      "3750\n"
     ]
    }
   ],
   "source": [
    "nombreprueba1 = ['Deyanira Garay', 'Deyanira Garay']\n",
    "productoprueba1 = ['Cigarros', 'Chicles']\n",
    "precioprueba1 = [3500, 250]\n",
    "\n",
    "\n",
    "ingresar_factura(nombreprueba1, productoprueba1, precioprueba1)"
   ]
  },
  {
   "cell_type": "code",
   "execution_count": 8,
   "metadata": {},
   "outputs": [
    {
     "name": "stdout",
     "output_type": "stream",
     "text": [
      "['20240330162032553673', '20240330162048456403', '20240330162136744223']\n",
      "[910, 3750, 3750]\n",
      "Se han realizado 3 ventas en total.  El Monto total de vendido es 8410\n"
     ]
    }
   ],
   "source": [
    "cantidad_de_ventas = len(g_codigo_factura)\n",
    "monto_total_ventas = sum(g_monto_total_vendido)\n",
    "\n",
    "print(g_codigo_factura)\n",
    "print(g_monto_total_vendido)\n",
    "print(f'Se han realizado {cantidad_de_ventas} ventas en total.  El Monto total de vendido es {monto_total_ventas}')"
   ]
  }
 ],
 "metadata": {
  "kernelspec": {
   "display_name": "base",
   "language": "python",
   "name": "python3"
  },
  "language_info": {
   "codemirror_mode": {
    "name": "ipython",
    "version": 3
   },
   "file_extension": ".py",
   "mimetype": "text/x-python",
   "name": "python",
   "nbconvert_exporter": "python",
   "pygments_lexer": "ipython3",
   "version": "3.11.7"
  }
 },
 "nbformat": 4,
 "nbformat_minor": 2
}
